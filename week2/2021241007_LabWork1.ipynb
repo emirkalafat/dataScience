{
 "cells": [
  {
   "cell_type": "markdown",
   "id": "f0ebdc88-d571-4966-9a42-682925dba57e",
   "metadata": {},
   "source": [
    "#### Name Surname:\n",
    "#### StudentID:"
   ]
  },
  {
   "cell_type": "markdown",
   "id": "4b062bb9-e856-4b8f-b729-4c0aaca2afd0",
   "metadata": {},
   "source": [
    "#### Important Notes: \n",
    "Change this file name to **studentId_LabWork1.ipynb**. After finished your work, upload your file to the related field in LMS"
   ]
  },
  {
   "cell_type": "markdown",
   "id": "88100769",
   "metadata": {},
   "source": [
    "### LabWork1 - **`Pandas`** `Series & DataFrames`\n",
    "\n",
    "1. Create three different series using list data type. You should use different data types such as **numeric, nominal, categorical** etc.\n",
    "2. Create three different series using dictionary data type. You should use different data types such as **numeric, nominal, categorical** etc.\n",
    "3. Apply `iloc` and `loc` functions two times for different series\n",
    "4. Give a broadcasting example for series.\n",
    "5. Create two data frames using the series you have created. These data frames have different datatypes, at least five columns and ten rows. You should use different data types such as **numeric, nominal, categorical** etc.\n",
    "6. Apply five different `iloc` and `loc` functions to data frame.\n",
    "7. Show three different `apply()` and `transform()` operations, one of them must be lambda operation\n",
    "8. Show  three different querying examples on data frame. You should use the `where` function. In addition, some querying examples should be created `&` and `|` operators.\n",
    "9. Save this data frame in any format you want. For example: csv or xlsx.\n",
    "10. Read this data frame and print out the first five rows."
   ]
  },
  {
   "cell_type": "code",
   "execution_count": 24,
   "id": "03bfa346",
   "metadata": {},
   "outputs": [
    {
     "data": {
      "text/plain": [
       "(0    23\n",
       " 1    34\n",
       " 2    26\n",
       " 3    28\n",
       " 4    30\n",
       " dtype: int64,\n",
       " 0        elma\n",
       " 1       armut\n",
       " 2    portakal\n",
       " 3        üzüm\n",
       " 4      ananas\n",
       " dtype: object,\n",
       " 0      small\n",
       " 1     medium\n",
       " 2      large\n",
       " 3     xlarge\n",
       " 4    xxlarge\n",
       " dtype: category\n",
       " Categories (5, object): ['large', 'medium', 'small', 'xlarge', 'xxlarge'])"
      ]
     },
     "execution_count": 24,
     "metadata": {},
     "output_type": "execute_result"
    }
   ],
   "source": [
    "# 1. Create three different series using list data type. You should use different data types such as numeric, nominal, categorical etc.\n",
    "\n",
    "import pandas as pd\n",
    "\n",
    "numeric_series = pd.Series([23,34,26,28,30])\n",
    "nominal_series = pd.Series(['elma', 'armut', 'portakal', 'üzüm', 'ananas'])\n",
    "categorical_series = pd.Series(['small', 'medium', 'large', 'xlarge', 'xxlarge'], dtype='category')\n",
    "\n",
    "numeric_series.head(), nominal_series.head(), categorical_series.head()"
   ]
  },
  {
   "cell_type": "code",
   "execution_count": 38,
   "id": "3d94d8af",
   "metadata": {},
   "outputs": [],
   "source": [
    "# 2. Create three different series using dictionary data type. You should use different data types such as numeric, nominal, categorical etc.\n",
    "\n",
    "Soyisim_series = pd.Series({'Ali': 'Yılmaz', 'Veli': 'Çelik', 'Ayşe': 'Demir', 'Ali': 'Çelik', 'Zeynep': 'Kara', 'Mehmet': 'Yılmaz', 'Fatma': 'Kara', 'Kemal': 'Kara'})\n",
    "Kardes_series = pd.Series({'Ali': 1, 'Veli': 2, 'Ayşe': 4, 'Ali': 1, 'Zeynep': 4, 'Mehmet': 3, 'Fatma': 2, 'Kemal': 3})\n",
    "Not_series = pd.Series({'Ali': 'AA', 'Veli': 'BA', 'Ayşe': 'CC', 'Ali': 'BA', 'Zeynep': 'DD', 'Mehmet': 'AA', 'Fatma': 'CC', 'Kemal': 'DD'}) \n"
   ]
  },
  {
   "cell_type": "code",
   "execution_count": 39,
   "id": "2653f6d2",
   "metadata": {},
   "outputs": [
    {
     "data": {
      "text/plain": [
       "Ali        Çelik\n",
       "Veli       Çelik\n",
       "Ayşe       Demir\n",
       "Zeynep      Kara\n",
       "Mehmet    Yılmaz\n",
       "dtype: object"
      ]
     },
     "execution_count": 39,
     "metadata": {},
     "output_type": "execute_result"
    }
   ],
   "source": [
    "Soyisim_series.head()"
   ]
  },
  {
   "cell_type": "code",
   "execution_count": 40,
   "id": "13ecf470",
   "metadata": {},
   "outputs": [
    {
     "data": {
      "text/plain": [
       "Ali       1\n",
       "Veli      2\n",
       "Ayşe      4\n",
       "Zeynep    4\n",
       "Mehmet    3\n",
       "dtype: int64"
      ]
     },
     "execution_count": 40,
     "metadata": {},
     "output_type": "execute_result"
    }
   ],
   "source": [
    "Kardes_series.head()"
   ]
  },
  {
   "cell_type": "code",
   "execution_count": 41,
   "id": "25a078ed",
   "metadata": {},
   "outputs": [
    {
     "data": {
      "text/plain": [
       "Ali       BA\n",
       "Veli      BA\n",
       "Ayşe      CC\n",
       "Zeynep    DD\n",
       "Mehmet    AA\n",
       "dtype: object"
      ]
     },
     "execution_count": 41,
     "metadata": {},
     "output_type": "execute_result"
    }
   ],
   "source": [
    "Not_series.head()"
   ]
  },
  {
   "cell_type": "code",
   "execution_count": 42,
   "id": "3f2caadc",
   "metadata": {},
   "outputs": [
    {
     "data": {
      "text/plain": [
       "Ali     1\n",
       "Veli    2\n",
       "Ayşe    4\n",
       "dtype: int64"
      ]
     },
     "execution_count": 42,
     "metadata": {},
     "output_type": "execute_result"
    }
   ],
   "source": [
    "# 3. Apply iloc and loc functions two times for different series\n",
    "\n",
    "Kardes_series.iloc[0:3]"
   ]
  },
  {
   "cell_type": "code",
   "execution_count": 43,
   "id": "62c10bf8",
   "metadata": {},
   "outputs": [
    {
     "data": {
      "text/plain": [
       "0        elma\n",
       "1       armut\n",
       "2    portakal\n",
       "3        üzüm\n",
       "dtype: object"
      ]
     },
     "execution_count": 43,
     "metadata": {},
     "output_type": "execute_result"
    }
   ],
   "source": [
    "nominal_series.loc[0:3]"
   ]
  },
  {
   "cell_type": "code",
   "execution_count": 44,
   "id": "974a06e0",
   "metadata": {},
   "outputs": [
    {
     "data": {
      "text/plain": [
       "Ali     Çelik\n",
       "Veli    Çelik\n",
       "Ayşe    Demir\n",
       "dtype: object"
      ]
     },
     "execution_count": 44,
     "metadata": {},
     "output_type": "execute_result"
    }
   ],
   "source": [
    "Soyisim_series.iloc[0:3]"
   ]
  },
  {
   "cell_type": "code",
   "execution_count": 45,
   "id": "be252708",
   "metadata": {},
   "outputs": [
    {
     "data": {
      "text/plain": [
       "Ali     Çelik\n",
       "Veli    Çelik\n",
       "Ayşe    Demir\n",
       "dtype: object"
      ]
     },
     "execution_count": 45,
     "metadata": {},
     "output_type": "execute_result"
    }
   ],
   "source": [
    "Soyisim_series.loc['Ali':'Ayşe']"
   ]
  },
  {
   "cell_type": "code",
   "execution_count": 46,
   "id": "d77703aa",
   "metadata": {},
   "outputs": [
    {
     "data": {
      "text/plain": [
       "Ali     BA\n",
       "Veli    BA\n",
       "Ayşe    CC\n",
       "dtype: object"
      ]
     },
     "execution_count": 46,
     "metadata": {},
     "output_type": "execute_result"
    }
   ],
   "source": [
    "Not_series.loc['Ali':'Ayşe']"
   ]
  },
  {
   "cell_type": "code",
   "execution_count": 4,
   "id": "cc924cf4",
   "metadata": {},
   "outputs": [],
   "source": [
    "# 4. Give a broadcasting example for series."
   ]
  },
  {
   "cell_type": "code",
   "execution_count": 52,
   "id": "7e6caad6",
   "metadata": {},
   "outputs": [
    {
     "data": {
      "text/html": [
       "<div>\n",
       "<style scoped>\n",
       "    .dataframe tbody tr th:only-of-type {\n",
       "        vertical-align: middle;\n",
       "    }\n",
       "\n",
       "    .dataframe tbody tr th {\n",
       "        vertical-align: top;\n",
       "    }\n",
       "\n",
       "    .dataframe thead th {\n",
       "        text-align: right;\n",
       "    }\n",
       "</style>\n",
       "<table border=\"1\" class=\"dataframe\">\n",
       "  <thead>\n",
       "    <tr style=\"text-align: right;\">\n",
       "      <th></th>\n",
       "      <th>Soyisim</th>\n",
       "      <th>Kardes</th>\n",
       "      <th>Not</th>\n",
       "      <th>Ev</th>\n",
       "      <th>Sokak</th>\n",
       "    </tr>\n",
       "  </thead>\n",
       "  <tbody>\n",
       "    <tr>\n",
       "      <th>Ali</th>\n",
       "      <td>Çelik</td>\n",
       "      <td>1</td>\n",
       "      <td>BA</td>\n",
       "      <td>villa</td>\n",
       "      <td>Cumhuriyet</td>\n",
       "    </tr>\n",
       "    <tr>\n",
       "      <th>Veli</th>\n",
       "      <td>Çelik</td>\n",
       "      <td>2</td>\n",
       "      <td>BA</td>\n",
       "      <td>villa</td>\n",
       "      <td>İnönü</td>\n",
       "    </tr>\n",
       "    <tr>\n",
       "      <th>Ayşe</th>\n",
       "      <td>Demir</td>\n",
       "      <td>4</td>\n",
       "      <td>CC</td>\n",
       "      <td>apartman</td>\n",
       "      <td>Atatürk</td>\n",
       "    </tr>\n",
       "    <tr>\n",
       "      <th>Zeynep</th>\n",
       "      <td>Kara</td>\n",
       "      <td>4</td>\n",
       "      <td>DD</td>\n",
       "      <td>villa</td>\n",
       "      <td>İnönü</td>\n",
       "    </tr>\n",
       "    <tr>\n",
       "      <th>Mehmet</th>\n",
       "      <td>Yılmaz</td>\n",
       "      <td>3</td>\n",
       "      <td>AA</td>\n",
       "      <td>villa</td>\n",
       "      <td>Zafer</td>\n",
       "    </tr>\n",
       "    <tr>\n",
       "      <th>Fatma</th>\n",
       "      <td>Kara</td>\n",
       "      <td>2</td>\n",
       "      <td>CC</td>\n",
       "      <td>villa</td>\n",
       "      <td>Paşa</td>\n",
       "    </tr>\n",
       "    <tr>\n",
       "      <th>Kemal</th>\n",
       "      <td>Kara</td>\n",
       "      <td>3</td>\n",
       "      <td>DD</td>\n",
       "      <td>villa</td>\n",
       "      <td>Mavi</td>\n",
       "    </tr>\n",
       "  </tbody>\n",
       "</table>\n",
       "</div>"
      ],
      "text/plain": [
       "       Soyisim  Kardes Not        Ev       Sokak\n",
       "Ali      Çelik       1  BA     villa  Cumhuriyet\n",
       "Veli     Çelik       2  BA     villa       İnönü\n",
       "Ayşe     Demir       4  CC  apartman     Atatürk\n",
       "Zeynep    Kara       4  DD     villa       İnönü\n",
       "Mehmet  Yılmaz       3  AA     villa       Zafer\n",
       "Fatma     Kara       2  CC     villa        Paşa\n",
       "Kemal     Kara       3  DD     villa        Mavi"
      ]
     },
     "execution_count": 52,
     "metadata": {},
     "output_type": "execute_result"
    }
   ],
   "source": [
    "# 5. Create two data frames using the series you have created. These data frames have different datatypes, at least five columns and ten rows. You should use different data types such as numeric, nominal, categorical etc.\n",
    "\n",
    "ev_series = pd.Series({\n",
    "    'Ali': 'apartman',\n",
    "    'Veli': 'villa',\n",
    "    'Ayşe': 'apartman',\n",
    "    'Ali': 'villa',\n",
    "    'Zeynep': 'villa',\n",
    "    'Mehmet': 'villa',\n",
    "    'Fatma': 'villa',\n",
    "    'Kemal': 'villa',\n",
    "})\n",
    "\n",
    "sokak_series = pd.Series({\n",
    "    'Ali': 'Atatürk',\n",
    "    'Veli': 'İnönü',\n",
    "    'Ayşe': 'Atatürk',\n",
    "    'Ali': 'Cumhuriyet',\n",
    "    'Zeynep': 'İnönü',\n",
    "    'Mehmet': 'Zafer',\n",
    "    'Fatma': 'Paşa',\n",
    "    'Kemal': 'Mavi',\n",
    "})\n",
    "\n",
    "data_frame1 = pd.DataFrame({\n",
    "    'Soyisim': Soyisim_series,\n",
    "    'Kardes': Kardes_series,\n",
    "    'Not': Not_series,\n",
    "    'Ev': ev_series,\n",
    "    'Sokak': sokak_series\n",
    "    })\n",
    "\n",
    "data_frame1.head(10)"
   ]
  },
  {
   "cell_type": "code",
   "execution_count": 59,
   "id": "2f5e55e6",
   "metadata": {},
   "outputs": [],
   "source": [
    "# 6. Apply five different iloc and loc functions to data frame.\n",
    "\n",
    "ans1 = data_frame1.iloc[2:5]\n",
    "\n",
    "ans2 = data_frame1.loc['Ali':'Ayşe']\n",
    "\n",
    "ans3 = data_frame1.iloc[1:3, 2:3]\n",
    "\n",
    "ans4 = data_frame1.loc['Ali':'Fatma', 'Soyisim':'Not']\n",
    "\n",
    "ans5 = data_frame1.iloc[0:3, 0:4]"
   ]
  },
  {
   "cell_type": "code",
   "execution_count": 60,
   "id": "1e7cf6a0",
   "metadata": {},
   "outputs": [
    {
     "name": "stdout",
     "output_type": "stream",
     "text": [
      "       Soyisim  Kardes Not        Ev    Sokak\n",
      "Ayşe     Demir       4  CC  apartman  Atatürk\n",
      "Zeynep    Kara       4  DD     villa    İnönü\n",
      "Mehmet  Yılmaz       3  AA     villa    Zafer\n",
      "     Soyisim  Kardes Not        Ev       Sokak\n",
      "Ali    Çelik       1  BA     villa  Cumhuriyet\n",
      "Veli   Çelik       2  BA     villa       İnönü\n",
      "Ayşe   Demir       4  CC  apartman     Atatürk\n",
      "     Not\n",
      "Veli  BA\n",
      "Ayşe  CC\n",
      "       Soyisim  Kardes Not\n",
      "Ali      Çelik       1  BA\n",
      "Veli     Çelik       2  BA\n",
      "Ayşe     Demir       4  CC\n",
      "Zeynep    Kara       4  DD\n",
      "Mehmet  Yılmaz       3  AA\n",
      "Fatma     Kara       2  CC\n",
      "     Soyisim  Kardes Not        Ev\n",
      "Ali    Çelik       1  BA     villa\n",
      "Veli   Çelik       2  BA     villa\n",
      "Ayşe   Demir       4  CC  apartman\n"
     ]
    }
   ],
   "source": [
    "print(ans1)\n",
    "print(ans2)\n",
    "print(ans3)\n",
    "print(ans4)\n",
    "print(ans5)"
   ]
  },
  {
   "cell_type": "code",
   "execution_count": 66,
   "id": "7b69385d-355e-4686-9586-e888a1fee759",
   "metadata": {},
   "outputs": [
    {
     "name": "stdout",
     "output_type": "stream",
     "text": [
      "Ali       2\n",
      "Veli      4\n",
      "Ayşe      8\n",
      "Zeynep    8\n",
      "Mehmet    6\n",
      "Fatma     4\n",
      "Kemal     6\n",
      "Name: Kardes, dtype: int64\n",
      "Ali       ba\n",
      "Veli      ba\n",
      "Ayşe      cc\n",
      "Zeynep    dd\n",
      "Mehmet    aa\n",
      "Fatma     cc\n",
      "Kemal     dd\n",
      "Name: Not, dtype: object\n"
     ]
    },
    {
     "ename": "TypeError",
     "evalue": "ufunc 'isnan' not supported for the input types, and the inputs could not be safely coerced to any supported types according to the casting rule ''safe''",
     "output_type": "error",
     "traceback": [
      "\u001b[0;31m---------------------------------------------------------------------------\u001b[0m",
      "\u001b[0;31mTypeError\u001b[0m                                 Traceback (most recent call last)",
      "File \u001b[0;32m/opt/homebrew/lib/python3.11/site-packages/pandas/core/apply.py:299\u001b[0m, in \u001b[0;36mApply.transform_str_or_callable\u001b[0;34m(self, func)\u001b[0m\n\u001b[1;32m    298\u001b[0m \u001b[38;5;28;01mtry\u001b[39;00m:\n\u001b[0;32m--> 299\u001b[0m     \u001b[38;5;28;01mreturn\u001b[39;00m \u001b[43mobj\u001b[49m\u001b[38;5;241;43m.\u001b[39;49m\u001b[43mapply\u001b[49m\u001b[43m(\u001b[49m\u001b[43mfunc\u001b[49m\u001b[43m,\u001b[49m\u001b[43m \u001b[49m\u001b[43margs\u001b[49m\u001b[38;5;241;43m=\u001b[39;49m\u001b[43margs\u001b[49m\u001b[43m,\u001b[49m\u001b[43m \u001b[49m\u001b[38;5;241;43m*\u001b[39;49m\u001b[38;5;241;43m*\u001b[39;49m\u001b[43mkwargs\u001b[49m\u001b[43m)\u001b[49m\n\u001b[1;32m    300\u001b[0m \u001b[38;5;28;01mexcept\u001b[39;00m \u001b[38;5;167;01mException\u001b[39;00m:\n",
      "File \u001b[0;32m/opt/homebrew/lib/python3.11/site-packages/pandas/core/frame.py:10034\u001b[0m, in \u001b[0;36mDataFrame.apply\u001b[0;34m(self, func, axis, raw, result_type, args, by_row, **kwargs)\u001b[0m\n\u001b[1;32m  10024\u001b[0m op \u001b[38;5;241m=\u001b[39m frame_apply(\n\u001b[1;32m  10025\u001b[0m     \u001b[38;5;28mself\u001b[39m,\n\u001b[1;32m  10026\u001b[0m     func\u001b[38;5;241m=\u001b[39mfunc,\n\u001b[0;32m   (...)\u001b[0m\n\u001b[1;32m  10032\u001b[0m     kwargs\u001b[38;5;241m=\u001b[39mkwargs,\n\u001b[1;32m  10033\u001b[0m )\n\u001b[0;32m> 10034\u001b[0m \u001b[38;5;28;01mreturn\u001b[39;00m \u001b[43mop\u001b[49m\u001b[38;5;241;43m.\u001b[39;49m\u001b[43mapply\u001b[49m\u001b[43m(\u001b[49m\u001b[43m)\u001b[49m\u001b[38;5;241m.\u001b[39m__finalize__(\u001b[38;5;28mself\u001b[39m, method\u001b[38;5;241m=\u001b[39m\u001b[38;5;124m\"\u001b[39m\u001b[38;5;124mapply\u001b[39m\u001b[38;5;124m\"\u001b[39m)\n",
      "File \u001b[0;32m/opt/homebrew/lib/python3.11/site-packages/pandas/core/apply.py:837\u001b[0m, in \u001b[0;36mFrameApply.apply\u001b[0;34m(self)\u001b[0m\n\u001b[1;32m    835\u001b[0m     \u001b[38;5;28;01mreturn\u001b[39;00m \u001b[38;5;28mself\u001b[39m\u001b[38;5;241m.\u001b[39mapply_raw()\n\u001b[0;32m--> 837\u001b[0m \u001b[38;5;28;01mreturn\u001b[39;00m \u001b[38;5;28;43mself\u001b[39;49m\u001b[38;5;241;43m.\u001b[39;49m\u001b[43mapply_standard\u001b[49m\u001b[43m(\u001b[49m\u001b[43m)\u001b[49m\n",
      "File \u001b[0;32m/opt/homebrew/lib/python3.11/site-packages/pandas/core/apply.py:965\u001b[0m, in \u001b[0;36mFrameApply.apply_standard\u001b[0;34m(self)\u001b[0m\n\u001b[1;32m    964\u001b[0m \u001b[38;5;28;01mdef\u001b[39;00m \u001b[38;5;21mapply_standard\u001b[39m(\u001b[38;5;28mself\u001b[39m):\n\u001b[0;32m--> 965\u001b[0m     results, res_index \u001b[38;5;241m=\u001b[39m \u001b[38;5;28;43mself\u001b[39;49m\u001b[38;5;241;43m.\u001b[39;49m\u001b[43mapply_series_generator\u001b[49m\u001b[43m(\u001b[49m\u001b[43m)\u001b[49m\n\u001b[1;32m    967\u001b[0m     \u001b[38;5;66;03m# wrap results\u001b[39;00m\n",
      "File \u001b[0;32m/opt/homebrew/lib/python3.11/site-packages/pandas/core/apply.py:981\u001b[0m, in \u001b[0;36mFrameApply.apply_series_generator\u001b[0;34m(self)\u001b[0m\n\u001b[1;32m    979\u001b[0m \u001b[38;5;28;01mfor\u001b[39;00m i, v \u001b[38;5;129;01min\u001b[39;00m \u001b[38;5;28menumerate\u001b[39m(series_gen):\n\u001b[1;32m    980\u001b[0m     \u001b[38;5;66;03m# ignore SettingWithCopy here in case the user mutates\u001b[39;00m\n\u001b[0;32m--> 981\u001b[0m     results[i] \u001b[38;5;241m=\u001b[39m \u001b[38;5;28;43mself\u001b[39;49m\u001b[38;5;241;43m.\u001b[39;49m\u001b[43mfunc\u001b[49m\u001b[43m(\u001b[49m\u001b[43mv\u001b[49m\u001b[43m,\u001b[49m\u001b[43m \u001b[49m\u001b[38;5;241;43m*\u001b[39;49m\u001b[38;5;28;43mself\u001b[39;49m\u001b[38;5;241;43m.\u001b[39;49m\u001b[43margs\u001b[49m\u001b[43m,\u001b[49m\u001b[43m \u001b[49m\u001b[38;5;241;43m*\u001b[39;49m\u001b[38;5;241;43m*\u001b[39;49m\u001b[38;5;28;43mself\u001b[39;49m\u001b[38;5;241;43m.\u001b[39;49m\u001b[43mkwargs\u001b[49m\u001b[43m)\u001b[49m\n\u001b[1;32m    982\u001b[0m     \u001b[38;5;28;01mif\u001b[39;00m \u001b[38;5;28misinstance\u001b[39m(results[i], ABCSeries):\n\u001b[1;32m    983\u001b[0m         \u001b[38;5;66;03m# If we have a view on v, we need to make a copy because\u001b[39;00m\n\u001b[1;32m    984\u001b[0m         \u001b[38;5;66;03m#  series_generator will swap out the underlying data\u001b[39;00m\n",
      "Cell \u001b[0;32mIn[66], line 10\u001b[0m, in \u001b[0;36mtransform\u001b[0;34m(x)\u001b[0m\n\u001b[1;32m      9\u001b[0m \u001b[38;5;28;01mdef\u001b[39;00m \u001b[38;5;21mtransform\u001b[39m(x):\n\u001b[0;32m---> 10\u001b[0m     \u001b[38;5;28;01mif\u001b[39;00m \u001b[43mnp\u001b[49m\u001b[38;5;241;43m.\u001b[39;49m\u001b[43misnan\u001b[49m\u001b[43m(\u001b[49m\u001b[43mx\u001b[49m\u001b[43m)\u001b[49m:\n\u001b[1;32m     11\u001b[0m         \u001b[38;5;28;01mreturn\u001b[39;00m x \u001b[38;5;241m*\u001b[39m \u001b[38;5;241m2\u001b[39m\n",
      "File \u001b[0;32m/opt/homebrew/lib/python3.11/site-packages/pandas/core/generic.py:2102\u001b[0m, in \u001b[0;36mNDFrame.__array_ufunc__\u001b[0;34m(self, ufunc, method, *inputs, **kwargs)\u001b[0m\n\u001b[1;32m   2098\u001b[0m \u001b[38;5;129m@final\u001b[39m\n\u001b[1;32m   2099\u001b[0m \u001b[38;5;28;01mdef\u001b[39;00m \u001b[38;5;21m__array_ufunc__\u001b[39m(\n\u001b[1;32m   2100\u001b[0m     \u001b[38;5;28mself\u001b[39m, ufunc: np\u001b[38;5;241m.\u001b[39mufunc, method: \u001b[38;5;28mstr\u001b[39m, \u001b[38;5;241m*\u001b[39minputs: Any, \u001b[38;5;241m*\u001b[39m\u001b[38;5;241m*\u001b[39mkwargs: Any\n\u001b[1;32m   2101\u001b[0m ):\n\u001b[0;32m-> 2102\u001b[0m     \u001b[38;5;28;01mreturn\u001b[39;00m \u001b[43marraylike\u001b[49m\u001b[38;5;241;43m.\u001b[39;49m\u001b[43marray_ufunc\u001b[49m\u001b[43m(\u001b[49m\u001b[38;5;28;43mself\u001b[39;49m\u001b[43m,\u001b[49m\u001b[43m \u001b[49m\u001b[43mufunc\u001b[49m\u001b[43m,\u001b[49m\u001b[43m \u001b[49m\u001b[43mmethod\u001b[49m\u001b[43m,\u001b[49m\u001b[43m \u001b[49m\u001b[38;5;241;43m*\u001b[39;49m\u001b[43minputs\u001b[49m\u001b[43m,\u001b[49m\u001b[43m \u001b[49m\u001b[38;5;241;43m*\u001b[39;49m\u001b[38;5;241;43m*\u001b[39;49m\u001b[43mkwargs\u001b[49m\u001b[43m)\u001b[49m\n",
      "File \u001b[0;32m/opt/homebrew/lib/python3.11/site-packages/pandas/core/arraylike.py:396\u001b[0m, in \u001b[0;36marray_ufunc\u001b[0;34m(self, ufunc, method, *inputs, **kwargs)\u001b[0m\n\u001b[1;32m    395\u001b[0m     inputs \u001b[38;5;241m=\u001b[39m \u001b[38;5;28mtuple\u001b[39m(extract_array(x, extract_numpy\u001b[38;5;241m=\u001b[39m\u001b[38;5;28;01mTrue\u001b[39;00m) \u001b[38;5;28;01mfor\u001b[39;00m x \u001b[38;5;129;01min\u001b[39;00m inputs)\n\u001b[0;32m--> 396\u001b[0m     result \u001b[38;5;241m=\u001b[39m \u001b[38;5;28;43mgetattr\u001b[39;49m\u001b[43m(\u001b[49m\u001b[43mufunc\u001b[49m\u001b[43m,\u001b[49m\u001b[43m \u001b[49m\u001b[43mmethod\u001b[49m\u001b[43m)\u001b[49m\u001b[43m(\u001b[49m\u001b[38;5;241;43m*\u001b[39;49m\u001b[43minputs\u001b[49m\u001b[43m,\u001b[49m\u001b[43m \u001b[49m\u001b[38;5;241;43m*\u001b[39;49m\u001b[38;5;241;43m*\u001b[39;49m\u001b[43mkwargs\u001b[49m\u001b[43m)\u001b[49m\n\u001b[1;32m    397\u001b[0m \u001b[38;5;28;01melse\u001b[39;00m:\n\u001b[1;32m    398\u001b[0m     \u001b[38;5;66;03m# ufunc(dataframe)\u001b[39;00m\n",
      "\u001b[0;31mTypeError\u001b[0m: ufunc 'isnan' not supported for the input types, and the inputs could not be safely coerced to any supported types according to the casting rule ''safe''",
      "\nDuring handling of the above exception, another exception occurred:\n",
      "\u001b[0;31mTypeError\u001b[0m                                 Traceback (most recent call last)",
      "Cell \u001b[0;32mIn[66], line 13\u001b[0m\n\u001b[1;32m     10\u001b[0m     \u001b[38;5;28;01mif\u001b[39;00m np\u001b[38;5;241m.\u001b[39misnan(x):\n\u001b[1;32m     11\u001b[0m         \u001b[38;5;28;01mreturn\u001b[39;00m x \u001b[38;5;241m*\u001b[39m \u001b[38;5;241m2\u001b[39m\n\u001b[0;32m---> 13\u001b[0m \u001b[38;5;28mprint\u001b[39m(\u001b[43mdata_frame1\u001b[49m\u001b[38;5;241;43m.\u001b[39;49m\u001b[43mtransform\u001b[49m\u001b[43m(\u001b[49m\u001b[43mtransform\u001b[49m\u001b[43m)\u001b[49m)\n",
      "File \u001b[0;32m/opt/homebrew/lib/python3.11/site-packages/pandas/core/frame.py:9860\u001b[0m, in \u001b[0;36mDataFrame.transform\u001b[0;34m(self, func, axis, *args, **kwargs)\u001b[0m\n\u001b[1;32m   9857\u001b[0m \u001b[38;5;28;01mfrom\u001b[39;00m \u001b[38;5;21;01mpandas\u001b[39;00m\u001b[38;5;21;01m.\u001b[39;00m\u001b[38;5;21;01mcore\u001b[39;00m\u001b[38;5;21;01m.\u001b[39;00m\u001b[38;5;21;01mapply\u001b[39;00m \u001b[38;5;28;01mimport\u001b[39;00m frame_apply\n\u001b[1;32m   9859\u001b[0m op \u001b[38;5;241m=\u001b[39m frame_apply(\u001b[38;5;28mself\u001b[39m, func\u001b[38;5;241m=\u001b[39mfunc, axis\u001b[38;5;241m=\u001b[39maxis, args\u001b[38;5;241m=\u001b[39margs, kwargs\u001b[38;5;241m=\u001b[39mkwargs)\n\u001b[0;32m-> 9860\u001b[0m result \u001b[38;5;241m=\u001b[39m \u001b[43mop\u001b[49m\u001b[38;5;241;43m.\u001b[39;49m\u001b[43mtransform\u001b[49m\u001b[43m(\u001b[49m\u001b[43m)\u001b[49m\n\u001b[1;32m   9861\u001b[0m \u001b[38;5;28;01massert\u001b[39;00m \u001b[38;5;28misinstance\u001b[39m(result, DataFrame)\n\u001b[1;32m   9862\u001b[0m \u001b[38;5;28;01mreturn\u001b[39;00m result\n",
      "File \u001b[0;32m/opt/homebrew/lib/python3.11/site-packages/pandas/core/apply.py:231\u001b[0m, in \u001b[0;36mApply.transform\u001b[0;34m(self)\u001b[0m\n\u001b[1;32m    229\u001b[0m func \u001b[38;5;241m=\u001b[39m cast(AggFuncTypeBase, func)\n\u001b[1;32m    230\u001b[0m \u001b[38;5;28;01mtry\u001b[39;00m:\n\u001b[0;32m--> 231\u001b[0m     result \u001b[38;5;241m=\u001b[39m \u001b[38;5;28;43mself\u001b[39;49m\u001b[38;5;241;43m.\u001b[39;49m\u001b[43mtransform_str_or_callable\u001b[49m\u001b[43m(\u001b[49m\u001b[43mfunc\u001b[49m\u001b[43m)\u001b[49m\n\u001b[1;32m    232\u001b[0m \u001b[38;5;28;01mexcept\u001b[39;00m \u001b[38;5;167;01mTypeError\u001b[39;00m:\n\u001b[1;32m    233\u001b[0m     \u001b[38;5;28;01mraise\u001b[39;00m\n",
      "File \u001b[0;32m/opt/homebrew/lib/python3.11/site-packages/pandas/core/apply.py:301\u001b[0m, in \u001b[0;36mApply.transform_str_or_callable\u001b[0;34m(self, func)\u001b[0m\n\u001b[1;32m    299\u001b[0m     \u001b[38;5;28;01mreturn\u001b[39;00m obj\u001b[38;5;241m.\u001b[39mapply(func, args\u001b[38;5;241m=\u001b[39margs, \u001b[38;5;241m*\u001b[39m\u001b[38;5;241m*\u001b[39mkwargs)\n\u001b[1;32m    300\u001b[0m \u001b[38;5;28;01mexcept\u001b[39;00m \u001b[38;5;167;01mException\u001b[39;00m:\n\u001b[0;32m--> 301\u001b[0m     \u001b[38;5;28;01mreturn\u001b[39;00m \u001b[43mfunc\u001b[49m\u001b[43m(\u001b[49m\u001b[43mobj\u001b[49m\u001b[43m,\u001b[49m\u001b[43m \u001b[49m\u001b[38;5;241;43m*\u001b[39;49m\u001b[43margs\u001b[49m\u001b[43m,\u001b[49m\u001b[43m \u001b[49m\u001b[38;5;241;43m*\u001b[39;49m\u001b[38;5;241;43m*\u001b[39;49m\u001b[43mkwargs\u001b[49m\u001b[43m)\u001b[49m\n",
      "Cell \u001b[0;32mIn[66], line 10\u001b[0m, in \u001b[0;36mtransform\u001b[0;34m(x)\u001b[0m\n\u001b[1;32m      9\u001b[0m \u001b[38;5;28;01mdef\u001b[39;00m \u001b[38;5;21mtransform\u001b[39m(x):\n\u001b[0;32m---> 10\u001b[0m     \u001b[38;5;28;01mif\u001b[39;00m \u001b[43mnp\u001b[49m\u001b[38;5;241;43m.\u001b[39;49m\u001b[43misnan\u001b[49m\u001b[43m(\u001b[49m\u001b[43mx\u001b[49m\u001b[43m)\u001b[49m:\n\u001b[1;32m     11\u001b[0m         \u001b[38;5;28;01mreturn\u001b[39;00m x \u001b[38;5;241m*\u001b[39m \u001b[38;5;241m2\u001b[39m\n",
      "File \u001b[0;32m/opt/homebrew/lib/python3.11/site-packages/pandas/core/generic.py:2102\u001b[0m, in \u001b[0;36mNDFrame.__array_ufunc__\u001b[0;34m(self, ufunc, method, *inputs, **kwargs)\u001b[0m\n\u001b[1;32m   2098\u001b[0m \u001b[38;5;129m@final\u001b[39m\n\u001b[1;32m   2099\u001b[0m \u001b[38;5;28;01mdef\u001b[39;00m \u001b[38;5;21m__array_ufunc__\u001b[39m(\n\u001b[1;32m   2100\u001b[0m     \u001b[38;5;28mself\u001b[39m, ufunc: np\u001b[38;5;241m.\u001b[39mufunc, method: \u001b[38;5;28mstr\u001b[39m, \u001b[38;5;241m*\u001b[39minputs: Any, \u001b[38;5;241m*\u001b[39m\u001b[38;5;241m*\u001b[39mkwargs: Any\n\u001b[1;32m   2101\u001b[0m ):\n\u001b[0;32m-> 2102\u001b[0m     \u001b[38;5;28;01mreturn\u001b[39;00m \u001b[43marraylike\u001b[49m\u001b[38;5;241;43m.\u001b[39;49m\u001b[43marray_ufunc\u001b[49m\u001b[43m(\u001b[49m\u001b[38;5;28;43mself\u001b[39;49m\u001b[43m,\u001b[49m\u001b[43m \u001b[49m\u001b[43mufunc\u001b[49m\u001b[43m,\u001b[49m\u001b[43m \u001b[49m\u001b[43mmethod\u001b[49m\u001b[43m,\u001b[49m\u001b[43m \u001b[49m\u001b[38;5;241;43m*\u001b[39;49m\u001b[43minputs\u001b[49m\u001b[43m,\u001b[49m\u001b[43m \u001b[49m\u001b[38;5;241;43m*\u001b[39;49m\u001b[38;5;241;43m*\u001b[39;49m\u001b[43mkwargs\u001b[49m\u001b[43m)\u001b[49m\n",
      "File \u001b[0;32m/opt/homebrew/lib/python3.11/site-packages/pandas/core/arraylike.py:404\u001b[0m, in \u001b[0;36marray_ufunc\u001b[0;34m(self, ufunc, method, *inputs, **kwargs)\u001b[0m\n\u001b[1;32m    399\u001b[0m \u001b[38;5;28;01mif\u001b[39;00m method \u001b[38;5;241m==\u001b[39m \u001b[38;5;124m\"\u001b[39m\u001b[38;5;124m__call__\u001b[39m\u001b[38;5;124m\"\u001b[39m \u001b[38;5;129;01mand\u001b[39;00m \u001b[38;5;129;01mnot\u001b[39;00m kwargs:\n\u001b[1;32m    400\u001b[0m     \u001b[38;5;66;03m# for np.<ufunc>(..) calls\u001b[39;00m\n\u001b[1;32m    401\u001b[0m     \u001b[38;5;66;03m# kwargs cannot necessarily be handled block-by-block, so only\u001b[39;00m\n\u001b[1;32m    402\u001b[0m     \u001b[38;5;66;03m# take this path if there are no kwargs\u001b[39;00m\n\u001b[1;32m    403\u001b[0m     mgr \u001b[38;5;241m=\u001b[39m inputs[\u001b[38;5;241m0\u001b[39m]\u001b[38;5;241m.\u001b[39m_mgr\n\u001b[0;32m--> 404\u001b[0m     result \u001b[38;5;241m=\u001b[39m \u001b[43mmgr\u001b[49m\u001b[38;5;241;43m.\u001b[39;49m\u001b[43mapply\u001b[49m\u001b[43m(\u001b[49m\u001b[38;5;28;43mgetattr\u001b[39;49m\u001b[43m(\u001b[49m\u001b[43mufunc\u001b[49m\u001b[43m,\u001b[49m\u001b[43m \u001b[49m\u001b[43mmethod\u001b[49m\u001b[43m)\u001b[49m\u001b[43m)\u001b[49m\n\u001b[1;32m    405\u001b[0m \u001b[38;5;28;01melse\u001b[39;00m:\n\u001b[1;32m    406\u001b[0m     \u001b[38;5;66;03m# otherwise specific ufunc methods (eg np.<ufunc>.accumulate(..))\u001b[39;00m\n\u001b[1;32m    407\u001b[0m     \u001b[38;5;66;03m# Those can have an axis keyword and thus can't be called block-by-block\u001b[39;00m\n\u001b[1;32m    408\u001b[0m     result \u001b[38;5;241m=\u001b[39m default_array_ufunc(inputs[\u001b[38;5;241m0\u001b[39m], ufunc, method, \u001b[38;5;241m*\u001b[39minputs, \u001b[38;5;241m*\u001b[39m\u001b[38;5;241m*\u001b[39mkwargs)\n",
      "File \u001b[0;32m/opt/homebrew/lib/python3.11/site-packages/pandas/core/internals/managers.py:352\u001b[0m, in \u001b[0;36mBaseBlockManager.apply\u001b[0;34m(self, f, align_keys, **kwargs)\u001b[0m\n\u001b[1;32m    349\u001b[0m             kwargs[k] \u001b[38;5;241m=\u001b[39m obj[b\u001b[38;5;241m.\u001b[39mmgr_locs\u001b[38;5;241m.\u001b[39mindexer]\n\u001b[1;32m    351\u001b[0m \u001b[38;5;28;01mif\u001b[39;00m \u001b[38;5;28mcallable\u001b[39m(f):\n\u001b[0;32m--> 352\u001b[0m     applied \u001b[38;5;241m=\u001b[39m \u001b[43mb\u001b[49m\u001b[38;5;241;43m.\u001b[39;49m\u001b[43mapply\u001b[49m\u001b[43m(\u001b[49m\u001b[43mf\u001b[49m\u001b[43m,\u001b[49m\u001b[43m \u001b[49m\u001b[38;5;241;43m*\u001b[39;49m\u001b[38;5;241;43m*\u001b[39;49m\u001b[43mkwargs\u001b[49m\u001b[43m)\u001b[49m\n\u001b[1;32m    353\u001b[0m \u001b[38;5;28;01melse\u001b[39;00m:\n\u001b[1;32m    354\u001b[0m     applied \u001b[38;5;241m=\u001b[39m \u001b[38;5;28mgetattr\u001b[39m(b, f)(\u001b[38;5;241m*\u001b[39m\u001b[38;5;241m*\u001b[39mkwargs)\n",
      "File \u001b[0;32m/opt/homebrew/lib/python3.11/site-packages/pandas/core/internals/blocks.py:366\u001b[0m, in \u001b[0;36mBlock.apply\u001b[0;34m(self, func, **kwargs)\u001b[0m\n\u001b[1;32m    360\u001b[0m \u001b[38;5;129m@final\u001b[39m\n\u001b[1;32m    361\u001b[0m \u001b[38;5;28;01mdef\u001b[39;00m \u001b[38;5;21mapply\u001b[39m(\u001b[38;5;28mself\u001b[39m, func, \u001b[38;5;241m*\u001b[39m\u001b[38;5;241m*\u001b[39mkwargs) \u001b[38;5;241m-\u001b[39m\u001b[38;5;241m>\u001b[39m \u001b[38;5;28mlist\u001b[39m[Block]:\n\u001b[1;32m    362\u001b[0m \u001b[38;5;250m    \u001b[39m\u001b[38;5;124;03m\"\"\"\u001b[39;00m\n\u001b[1;32m    363\u001b[0m \u001b[38;5;124;03m    apply the function to my values; return a block if we are not\u001b[39;00m\n\u001b[1;32m    364\u001b[0m \u001b[38;5;124;03m    one\u001b[39;00m\n\u001b[1;32m    365\u001b[0m \u001b[38;5;124;03m    \"\"\"\u001b[39;00m\n\u001b[0;32m--> 366\u001b[0m     result \u001b[38;5;241m=\u001b[39m \u001b[43mfunc\u001b[49m\u001b[43m(\u001b[49m\u001b[38;5;28;43mself\u001b[39;49m\u001b[38;5;241;43m.\u001b[39;49m\u001b[43mvalues\u001b[49m\u001b[43m,\u001b[49m\u001b[43m \u001b[49m\u001b[38;5;241;43m*\u001b[39;49m\u001b[38;5;241;43m*\u001b[39;49m\u001b[43mkwargs\u001b[49m\u001b[43m)\u001b[49m\n\u001b[1;32m    368\u001b[0m     result \u001b[38;5;241m=\u001b[39m maybe_coerce_values(result)\n\u001b[1;32m    369\u001b[0m     \u001b[38;5;28;01mreturn\u001b[39;00m \u001b[38;5;28mself\u001b[39m\u001b[38;5;241m.\u001b[39m_split_op_result(result)\n",
      "\u001b[0;31mTypeError\u001b[0m: ufunc 'isnan' not supported for the input types, and the inputs could not be safely coerced to any supported types according to the casting rule ''safe''"
     ]
    }
   ],
   "source": [
    "# 7. Show three different `apply()` and `transform()` operations, one of them must be lambda operation\n",
    "\n",
    "import numpy as np\n",
    "\n",
    "print(data_frame1['Kardes'].apply(lambda x: x * 2))\n",
    "\n",
    "print(data_frame1['Not'].apply(str.lower))\n",
    "\n",
    "def transform(x):\n",
    "    if np.isnan(x):\n",
    "        return x * 2\n",
    "\n",
    "print(data_frame1.transform(transform))\n",
    "\n"
   ]
  },
  {
   "cell_type": "code",
   "execution_count": 8,
   "id": "a29bb1b0",
   "metadata": {},
   "outputs": [],
   "source": [
    "# 8. Show three different querying examples on data frame. You should use the 'where' function. In addition, some querying examples should be created & and | operators."
   ]
  },
  {
   "cell_type": "code",
   "execution_count": 9,
   "id": "d543db0b",
   "metadata": {},
   "outputs": [],
   "source": [
    "# 9. Save this data frame in any format you want. For example: csv or xlsx."
   ]
  },
  {
   "cell_type": "code",
   "execution_count": 10,
   "id": "c29cd1e7",
   "metadata": {},
   "outputs": [],
   "source": [
    "# 10. Read this data frame and print out the first five rows."
   ]
  }
 ],
 "metadata": {
  "kernelspec": {
   "display_name": "Python 3 (ipykernel)",
   "language": "python",
   "name": "python3"
  },
  "language_info": {
   "codemirror_mode": {
    "name": "ipython",
    "version": 3
   },
   "file_extension": ".py",
   "mimetype": "text/x-python",
   "name": "python",
   "nbconvert_exporter": "python",
   "pygments_lexer": "ipython3",
   "version": "3.11.7"
  }
 },
 "nbformat": 4,
 "nbformat_minor": 5
}
