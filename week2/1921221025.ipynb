{
 "cells": [
  {
   "cell_type": "code",
   "execution_count": 1,
   "id": "initial_id",
   "metadata": {
    "ExecuteTime": {
     "end_time": "2024-02-27T12:24:13.018665Z",
     "start_time": "2024-02-27T12:24:11.783954Z"
    }
   },
   "outputs": [],
   "source": [
    "import numpy as np\n",
    "import pandas as pd"
   ]
  },
  {
   "cell_type": "code",
   "execution_count": 2,
   "id": "8f0aeaab543e2e9f",
   "metadata": {
    "ExecuteTime": {
     "start_time": "2024-02-27T12:24:11.861543Z"
    }
   },
   "outputs": [
    {
     "data": {
      "text/plain": [
       "'2.1.4'"
      ]
     },
     "execution_count": 2,
     "metadata": {},
     "output_type": "execute_result"
    }
   ],
   "source": [
    "pd.__version__"
   ]
  },
  {
   "cell_type": "code",
   "execution_count": 3,
   "id": "1980fe86",
   "metadata": {
    "ExecuteTime": {
     "start_time": "2024-02-27T12:24:11.869582Z"
    }
   },
   "outputs": [],
   "source": [
    "pd.Series?"
   ]
  },
  {
   "cell_type": "code",
   "execution_count": 4,
   "id": "83053970",
   "metadata": {
    "ExecuteTime": {
     "start_time": "2024-02-27T12:24:11.877654Z"
    }
   },
   "outputs": [
    {
     "data": {
      "text/plain": [
       "0     1000\n",
       "1      Ali\n",
       "2    33.22\n",
       "3      NaN\n",
       "4     True\n",
       "dtype: object"
      ]
     },
     "execution_count": 4,
     "metadata": {},
     "output_type": "execute_result"
    }
   ],
   "source": [
    "series = pd.Series([1000, \"Ali\", 33.22, np.nan, True])\n",
    "series"
   ]
  },
  {
   "cell_type": "code",
   "execution_count": 5,
   "id": "4d36da2a",
   "metadata": {
    "ExecuteTime": {
     "start_time": "2024-02-27T12:24:11.881142Z"
    }
   },
   "outputs": [
    {
     "data": {
      "text/plain": [
       "RangeIndex(start=0, stop=5, step=1)"
      ]
     },
     "execution_count": 5,
     "metadata": {},
     "output_type": "execute_result"
    }
   ],
   "source": [
    "#List the index of the series\n",
    "series.index"
   ]
  },
  {
   "cell_type": "code",
   "execution_count": 6,
   "id": "6fa5a950",
   "metadata": {
    "ExecuteTime": {
     "start_time": "2024-02-27T12:24:11.883006Z"
    }
   },
   "outputs": [
    {
     "name": "stdout",
     "output_type": "stream",
     "text": [
      "[1000 'Ali' 33.22 nan True]\n"
     ]
    }
   ],
   "source": [
    "#List the values (column) of the series\n",
    "print(series.values)"
   ]
  },
  {
   "cell_type": "code",
   "execution_count": 7,
   "id": "15541dc3",
   "metadata": {
    "ExecuteTime": {
     "start_time": "2024-02-27T12:24:11.884560Z"
    }
   },
   "outputs": [
    {
     "data": {
      "text/plain": [
       "a     1000\n",
       "b      Ali\n",
       "c    33.22\n",
       "d      NaN\n",
       "e     True\n",
       "dtype: object"
      ]
     },
     "execution_count": 7,
     "metadata": {},
     "output_type": "execute_result"
    }
   ],
   "source": [
    "#possible to change the index lables of a pandas Series object\n",
    "series.index = ['a', 'b', 'c', 'd', 'e']\n",
    "series"
   ]
  },
  {
   "cell_type": "code",
   "execution_count": 8,
   "id": "25cbfe4a",
   "metadata": {
    "ExecuteTime": {
     "start_time": "2024-02-27T12:24:11.885927Z"
    }
   },
   "outputs": [
    {
     "data": {
      "text/plain": [
       "['a', 'b', 'c', 'd', 'e']"
      ]
     },
     "execution_count": 8,
     "metadata": {},
     "output_type": "execute_result"
    }
   ],
   "source": [
    "list(series.index)"
   ]
  },
  {
   "cell_type": "code",
   "execution_count": 9,
   "id": "1c201e64",
   "metadata": {
    "ExecuteTime": {
     "start_time": "2024-02-27T12:24:11.887240Z"
    }
   },
   "outputs": [
    {
     "name": "stdout",
     "output_type": "stream",
     "text": [
      "Ayse     1000\n",
      "Veli    20000\n",
      "Ali      3000\n",
      "dtype: int64\n"
     ]
    }
   ],
   "source": [
    "#The passed index is a list of axis labels.\n",
    "#Thus, this separates into a few cases depending on what data is:\n",
    "series = pd.Series([1000, 20000, 3000], index={'Ali', 'Veli', 'Ayse'})\n",
    "print(series)"
   ]
  },
  {
   "cell_type": "code",
   "execution_count": 10,
   "id": "3d7455dd",
   "metadata": {
    "ExecuteTime": {
     "start_time": "2024-02-27T12:24:11.888481Z"
    }
   },
   "outputs": [
    {
     "data": {
      "text/plain": [
       "Ali       67\n",
       "Veli      88\n",
       "Ayse      94\n",
       "Can       34\n",
       "Zeynep    45\n",
       "dtype: int64"
      ]
     },
     "execution_count": 10,
     "metadata": {},
     "output_type": "execute_result"
    }
   ],
   "source": [
    "#Series can be instantiated from dicts:\n",
    "dic = {'Ali': 67, 'Veli': 88, 'Ayse':94, 'Can':34, 'Zeynep': 45}\n",
    "series = pd.Series(dic)\n",
    "series"
   ]
  },
  {
   "cell_type": "markdown",
   "id": "89c1226e",
   "metadata": {},
   "source": [
    "* Series acts very similarly to a ndarray, and is a valid argument to most NumPy functions. However, operations such as slicing will also slice the index."
   ]
  },
  {
   "cell_type": "code",
   "execution_count": 11,
   "id": "c213b255",
   "metadata": {
    "ExecuteTime": {
     "start_time": "2024-02-27T12:24:11.889623Z"
    }
   },
   "outputs": [
    {
     "name": "stderr",
     "output_type": "stream",
     "text": [
      "/var/folders/xf/04cmg4r93sq_1s9rc3lwwflm0000gn/T/ipykernel_71487/4087186685.py:2: FutureWarning: Series.__getitem__ treating keys as positions is deprecated. In a future version, integer keys will always be treated as labels (consistent with DataFrame behavior). To access a value by position, use `ser.iloc[pos]`\n",
      "  series[0]\n"
     ]
    },
    {
     "data": {
      "text/plain": [
       "67"
      ]
     },
     "execution_count": 11,
     "metadata": {},
     "output_type": "execute_result"
    }
   ],
   "source": [
    "#display index\n",
    "series[0]"
   ]
  },
  {
   "cell_type": "code",
   "execution_count": 12,
   "id": "9e844589",
   "metadata": {
    "ExecuteTime": {
     "start_time": "2024-02-27T12:24:11.890982Z"
    }
   },
   "outputs": [
    {
     "name": "stderr",
     "output_type": "stream",
     "text": [
      "/var/folders/xf/04cmg4r93sq_1s9rc3lwwflm0000gn/T/ipykernel_71487/4012709985.py:1: FutureWarning: Series.__getitem__ treating keys as positions is deprecated. In a future version, integer keys will always be treated as labels (consistent with DataFrame behavior). To access a value by position, use `ser.iloc[pos]`\n",
      "  series[-1]\n"
     ]
    },
    {
     "data": {
      "text/plain": [
       "45"
      ]
     },
     "execution_count": 12,
     "metadata": {},
     "output_type": "execute_result"
    }
   ],
   "source": [
    "series[-1]"
   ]
  },
  {
   "cell_type": "code",
   "execution_count": 13,
   "id": "006706d6",
   "metadata": {
    "ExecuteTime": {
     "start_time": "2024-02-27T12:24:11.893509Z"
    }
   },
   "outputs": [
    {
     "data": {
      "text/plain": [
       "Ayse      94\n",
       "Can       34\n",
       "Zeynep    45\n",
       "dtype: int64"
      ]
     },
     "execution_count": 13,
     "metadata": {},
     "output_type": "execute_result"
    }
   ],
   "source": [
    "series[-3:]"
   ]
  },
  {
   "cell_type": "code",
   "execution_count": 14,
   "id": "8e2cb9ed",
   "metadata": {
    "ExecuteTime": {
     "start_time": "2024-02-27T12:24:11.897059Z"
    }
   },
   "outputs": [
    {
     "data": {
      "text/plain": [
       "Ali     67\n",
       "Veli    88\n",
       "dtype: int64"
      ]
     },
     "execution_count": 14,
     "metadata": {},
     "output_type": "execute_result"
    }
   ],
   "source": [
    "series[0:2]"
   ]
  },
  {
   "cell_type": "markdown",
   "id": "c114e7e1",
   "metadata": {},
   "source": [
    "    * We will addresses array-based indexing like series [[3, 1, 0]] in selection on indexing"
   ]
  },
  {
   "cell_type": "code",
   "execution_count": 15,
   "id": "7acf42c8",
   "metadata": {
    "ExecuteTime": {
     "start_time": "2024-02-27T12:24:11.899593Z"
    }
   },
   "outputs": [
    {
     "name": "stderr",
     "output_type": "stream",
     "text": [
      "/var/folders/xf/04cmg4r93sq_1s9rc3lwwflm0000gn/T/ipykernel_71487/190809909.py:1: FutureWarning: Series.__getitem__ treating keys as positions is deprecated. In a future version, integer keys will always be treated as labels (consistent with DataFrame behavior). To access a value by position, use `ser.iloc[pos]`\n",
      "  series[[3, 1, 0]]\n"
     ]
    },
    {
     "data": {
      "text/plain": [
       "Can     34\n",
       "Veli    88\n",
       "Ali     67\n",
       "dtype: int64"
      ]
     },
     "execution_count": 15,
     "metadata": {},
     "output_type": "execute_result"
    }
   ],
   "source": [
    "series[[3, 1, 0]]"
   ]
  },
  {
   "cell_type": "code",
   "execution_count": 16,
   "id": "eb21e4f7",
   "metadata": {
    "ExecuteTime": {
     "start_time": "2024-02-27T12:24:11.902205Z"
    }
   },
   "outputs": [
    {
     "data": {
      "text/plain": [
       "88"
      ]
     },
     "execution_count": 16,
     "metadata": {},
     "output_type": "execute_result"
    }
   ],
   "source": [
    "series['Veli']"
   ]
  },
  {
   "cell_type": "code",
   "execution_count": 17,
   "id": "67c62c83",
   "metadata": {
    "ExecuteTime": {
     "start_time": "2024-02-27T12:24:11.906284Z"
    }
   },
   "outputs": [
    {
     "data": {
      "text/plain": [
       "Veli    88\n",
       "Can     34\n",
       "dtype: int64"
      ]
     },
     "execution_count": 17,
     "metadata": {},
     "output_type": "execute_result"
    }
   ],
   "source": [
    "series[['Veli', 'Can']]"
   ]
  },
  {
   "cell_type": "code",
   "execution_count": 18,
   "id": "7fee92d7",
   "metadata": {
    "ExecuteTime": {
     "start_time": "2024-02-27T12:24:11.908698Z"
    }
   },
   "outputs": [
    {
     "data": {
      "text/plain": [
       "Ali     67\n",
       "Veli    88\n",
       "Ayse    94\n",
       "Can     34\n",
       "dtype: int64"
      ]
     },
     "execution_count": 18,
     "metadata": {},
     "output_type": "execute_result"
    }
   ],
   "source": [
    "series['Ali':'Can']"
   ]
  },
  {
   "cell_type": "code",
   "execution_count": 19,
   "id": "9707b41f",
   "metadata": {
    "ExecuteTime": {
     "start_time": "2024-02-27T12:24:11.911519Z"
    }
   },
   "outputs": [
    {
     "data": {
      "text/plain": [
       "Ali       67\n",
       "Veli      89\n",
       "Ayse      89\n",
       "Can       89\n",
       "Zeynep    45\n",
       "dtype: int64"
      ]
     },
     "execution_count": 19,
     "metadata": {},
     "output_type": "execute_result"
    }
   ],
   "source": [
    "series['Veli':'Can'] = 89\n",
    "series"
   ]
  },
  {
   "cell_type": "code",
   "execution_count": 20,
   "id": "500e9616",
   "metadata": {
    "ExecuteTime": {
     "start_time": "2024-02-27T12:24:11.913647Z"
    }
   },
   "outputs": [
    {
     "data": {
      "text/plain": [
       "Ali       67\n",
       "Veli      89\n",
       "Ayse      98\n",
       "Can       89\n",
       "Zeynep    45\n",
       "dtype: int64"
      ]
     },
     "execution_count": 20,
     "metadata": {},
     "output_type": "execute_result"
    }
   ],
   "source": [
    "series['Ayse'] = 98\n",
    "series"
   ]
  },
  {
   "cell_type": "code",
   "execution_count": 21,
   "id": "70e9977f",
   "metadata": {
    "ExecuteTime": {
     "start_time": "2024-02-27T12:24:11.916154Z"
    }
   },
   "outputs": [
    {
     "data": {
      "text/plain": [
       "0     1000\n",
       "1      Ali\n",
       "2    33.22\n",
       "3      NaN\n",
       "4     True\n",
       "dtype: object"
      ]
     },
     "execution_count": 21,
     "metadata": {},
     "output_type": "execute_result"
    }
   ],
   "source": [
    "series = pd.Series([1000, 'Ali', 33.22, np.nan, True])\n",
    "series"
   ]
  },
  {
   "cell_type": "markdown",
   "id": "dc341d40",
   "metadata": {},
   "source": [
    "isna() and isnull() both do not detect empty strings. \"So you need to apply different functions to treat empty strings.\""
   ]
  },
  {
   "cell_type": "code",
   "execution_count": 22,
   "id": "24a48e66",
   "metadata": {
    "ExecuteTime": {
     "start_time": "2024-02-27T12:24:11.920014Z"
    }
   },
   "outputs": [
    {
     "data": {
      "text/plain": [
       "0    False\n",
       "1    False\n",
       "2    False\n",
       "3     True\n",
       "4    False\n",
       "dtype: bool"
      ]
     },
     "execution_count": 22,
     "metadata": {},
     "output_type": "execute_result"
    }
   ],
   "source": [
    "series.isna()"
   ]
  },
  {
   "cell_type": "code",
   "execution_count": 23,
   "id": "02b0c3da",
   "metadata": {
    "ExecuteTime": {
     "start_time": "2024-02-27T12:24:11.922722Z"
    }
   },
   "outputs": [
    {
     "data": {
      "text/plain": [
       "0    False\n",
       "1    False\n",
       "2    False\n",
       "3     True\n",
       "4    False\n",
       "dtype: bool"
      ]
     },
     "execution_count": 23,
     "metadata": {},
     "output_type": "execute_result"
    }
   ],
   "source": [
    "series.isnull()"
   ]
  },
  {
   "cell_type": "raw",
   "id": "ca268295",
   "metadata": {},
   "source": [
    "Series is dict-like\n",
    "    * A Series is like a fixed-size dict in that you can get and set values by index label:"
   ]
  },
  {
   "cell_type": "code",
   "execution_count": 24,
   "id": "3b7cb6fa",
   "metadata": {
    "ExecuteTime": {
     "start_time": "2024-02-27T12:24:11.925397Z"
    }
   },
   "outputs": [
    {
     "data": {
      "text/plain": [
       "Ali       67\n",
       "Veli      88\n",
       "Ayse      94\n",
       "Can       34\n",
       "Zeynep    45\n",
       "Zehra     74\n",
       "dtype: int64"
      ]
     },
     "execution_count": 24,
     "metadata": {},
     "output_type": "execute_result"
    }
   ],
   "source": [
    "dic = {'Ali': 67, 'Veli': 88, 'Ayse':94, 'Can':34, 'Zeynep': 45, 'Zehra': 74}\n",
    "series = pd.Series(dic)\n",
    "series"
   ]
  },
  {
   "cell_type": "code",
   "execution_count": 25,
   "id": "0bbb42d1",
   "metadata": {
    "ExecuteTime": {
     "start_time": "2024-02-27T12:24:11.928125Z"
    }
   },
   "outputs": [
    {
     "name": "stderr",
     "output_type": "stream",
     "text": [
      "/var/folders/xf/04cmg4r93sq_1s9rc3lwwflm0000gn/T/ipykernel_71487/3599177748.py:3: FutureWarning: Series.__getitem__ treating keys as positions is deprecated. In a future version, integer keys will always be treated as labels (consistent with DataFrame behavior). To access a value by position, use `ser.iloc[pos]`\n",
      "  series[3]\n"
     ]
    },
    {
     "data": {
      "text/plain": [
       "34"
      ]
     },
     "execution_count": 25,
     "metadata": {},
     "output_type": "execute_result"
    }
   ],
   "source": [
    "#Return the Largest 'n' elements, default n = 5\n",
    "series.nlargest()\n",
    "series[3]"
   ]
  },
  {
   "cell_type": "code",
   "execution_count": 26,
   "id": "fbea9bb9",
   "metadata": {
    "ExecuteTime": {
     "start_time": "2024-02-27T12:24:11.930369Z"
    }
   },
   "outputs": [
    {
     "data": {
      "text/plain": [
       "Ayse     94\n",
       "Veli     88\n",
       "Zehra    74\n",
       "dtype: int64"
      ]
     },
     "execution_count": 26,
     "metadata": {},
     "output_type": "execute_result"
    }
   ],
   "source": [
    "series.nlargest(3)"
   ]
  },
  {
   "cell_type": "code",
   "execution_count": 27,
   "id": "c0736e3c",
   "metadata": {
    "ExecuteTime": {
     "start_time": "2024-02-27T12:24:11.932099Z"
    }
   },
   "outputs": [
    {
     "data": {
      "text/plain": [
       "0      1.471407\n",
       "1      0.820035\n",
       "2     -1.075878\n",
       "3     -1.541317\n",
       "4      1.352578\n",
       "         ...   \n",
       "995    0.740084\n",
       "996   -2.275836\n",
       "997    1.809179\n",
       "998   -0.225003\n",
       "999   -0.143215\n",
       "Length: 1000, dtype: float64"
      ]
     },
     "execution_count": 27,
     "metadata": {},
     "output_type": "execute_result"
    }
   ],
   "source": [
    "# can work with NumPy arrays\n",
    "longSeries = pd.Series(np.random.randn(1000))\n",
    "longSeries"
   ]
  },
  {
   "cell_type": "code",
   "execution_count": 28,
   "id": "4e14837f",
   "metadata": {
    "ExecuteTime": {
     "start_time": "2024-02-27T12:24:11.933837Z"
    }
   },
   "outputs": [
    {
     "data": {
      "text/plain": [
       "0    1.471407\n",
       "1    0.820035\n",
       "2   -1.075878\n",
       "3   -1.541317\n",
       "4    1.352578\n",
       "dtype: float64"
      ]
     },
     "execution_count": 28,
     "metadata": {},
     "output_type": "execute_result"
    }
   ],
   "source": [
    "longSeries.head()"
   ]
  },
  {
   "cell_type": "code",
   "execution_count": 29,
   "id": "304e7f7f",
   "metadata": {
    "ExecuteTime": {
     "start_time": "2024-02-27T12:24:11.935676Z"
    }
   },
   "outputs": [
    {
     "data": {
      "text/plain": [
       "0    1.471407\n",
       "1    0.820035\n",
       "2   -1.075878\n",
       "3   -1.541317\n",
       "4    1.352578\n",
       "5   -0.944411\n",
       "6    1.012554\n",
       "7    1.348635\n",
       "8   -0.141414\n",
       "9    2.100011\n",
       "dtype: float64"
      ]
     },
     "execution_count": 29,
     "metadata": {},
     "output_type": "execute_result"
    }
   ],
   "source": [
    "longSeries.head(10)"
   ]
  },
  {
   "cell_type": "code",
   "execution_count": 30,
   "id": "6b61b691",
   "metadata": {
    "ExecuteTime": {
     "start_time": "2024-02-27T12:24:11.937727Z"
    }
   },
   "outputs": [
    {
     "data": {
      "text/plain": [
       "997    1.809179\n",
       "998   -0.225003\n",
       "999   -0.143215\n",
       "dtype: float64"
      ]
     },
     "execution_count": 30,
     "metadata": {},
     "output_type": "execute_result"
    }
   ],
   "source": [
    "longSeries.tail(3)"
   ]
  },
  {
   "cell_type": "markdown",
   "id": "3f6ffc27",
   "metadata": {},
   "source": [
    "# Data Frame "
   ]
  },
  {
   "cell_type": "code",
   "execution_count": 31,
   "id": "72886e34",
   "metadata": {
    "ExecuteTime": {
     "start_time": "2024-02-27T12:24:11.939505Z"
    }
   },
   "outputs": [
    {
     "data": {
      "text/html": [
       "<div>\n",
       "<style scoped>\n",
       "    .dataframe tbody tr th:only-of-type {\n",
       "        vertical-align: middle;\n",
       "    }\n",
       "\n",
       "    .dataframe tbody tr th {\n",
       "        vertical-align: top;\n",
       "    }\n",
       "\n",
       "    .dataframe thead th {\n",
       "        text-align: right;\n",
       "    }\n",
       "</style>\n",
       "<table border=\"1\" class=\"dataframe\">\n",
       "  <thead>\n",
       "    <tr style=\"text-align: right;\">\n",
       "      <th></th>\n",
       "      <th>one</th>\n",
       "      <th>two</th>\n",
       "    </tr>\n",
       "  </thead>\n",
       "  <tbody>\n",
       "    <tr>\n",
       "      <th>0</th>\n",
       "      <td>2.387379</td>\n",
       "      <td>1.186236</td>\n",
       "    </tr>\n",
       "    <tr>\n",
       "      <th>1</th>\n",
       "      <td>0.525966</td>\n",
       "      <td>0.140812</td>\n",
       "    </tr>\n",
       "    <tr>\n",
       "      <th>2</th>\n",
       "      <td>0.672092</td>\n",
       "      <td>-0.469185</td>\n",
       "    </tr>\n",
       "    <tr>\n",
       "      <th>3</th>\n",
       "      <td>-1.290118</td>\n",
       "      <td>-0.135606</td>\n",
       "    </tr>\n",
       "    <tr>\n",
       "      <th>4</th>\n",
       "      <td>NaN</td>\n",
       "      <td>0.092139</td>\n",
       "    </tr>\n",
       "  </tbody>\n",
       "</table>\n",
       "</div>"
      ],
      "text/plain": [
       "        one       two\n",
       "0  2.387379  1.186236\n",
       "1  0.525966  0.140812\n",
       "2  0.672092 -0.469185\n",
       "3 -1.290118 -0.135606\n",
       "4       NaN  0.092139"
      ]
     },
     "execution_count": 31,
     "metadata": {},
     "output_type": "execute_result"
    }
   ],
   "source": [
    "s1 = pd.Series(np.random.randn(4))\n",
    "s2 = pd.Series(np.random.randn(5))\n",
    "dic = {'one': s1, 'two': s2}\n",
    "df = pd.DataFrame(dic)\n",
    "df"
   ]
  },
  {
   "cell_type": "code",
   "execution_count": 32,
   "id": "1d7722b8",
   "metadata": {
    "ExecuteTime": {
     "start_time": "2024-02-27T12:24:11.944727Z"
    }
   },
   "outputs": [
    {
     "data": {
      "text/plain": [
       "RangeIndex(start=0, stop=5, step=1)"
      ]
     },
     "execution_count": 32,
     "metadata": {},
     "output_type": "execute_result"
    }
   ],
   "source": [
    "df.index"
   ]
  },
  {
   "cell_type": "code",
   "execution_count": 33,
   "id": "5ffc55fe",
   "metadata": {
    "ExecuteTime": {
     "start_time": "2024-02-27T12:24:11.946911Z"
    }
   },
   "outputs": [
    {
     "data": {
      "text/plain": [
       "array([[ 2.38737871,  1.1862358 ],\n",
       "       [ 0.52596606,  0.14081247],\n",
       "       [ 0.6720923 , -0.46918459],\n",
       "       [-1.29011794, -0.13560611],\n",
       "       [        nan,  0.09213942]])"
      ]
     },
     "execution_count": 33,
     "metadata": {},
     "output_type": "execute_result"
    }
   ],
   "source": [
    "df.values"
   ]
  },
  {
   "cell_type": "code",
   "execution_count": 34,
   "id": "15504ac2",
   "metadata": {
    "ExecuteTime": {
     "start_time": "2024-02-27T12:24:11.948839Z"
    }
   },
   "outputs": [
    {
     "data": {
      "text/html": [
       "<div>\n",
       "<style scoped>\n",
       "    .dataframe tbody tr th:only-of-type {\n",
       "        vertical-align: middle;\n",
       "    }\n",
       "\n",
       "    .dataframe tbody tr th {\n",
       "        vertical-align: top;\n",
       "    }\n",
       "\n",
       "    .dataframe thead th {\n",
       "        text-align: right;\n",
       "    }\n",
       "</style>\n",
       "<table border=\"1\" class=\"dataframe\">\n",
       "  <thead>\n",
       "    <tr style=\"text-align: right;\">\n",
       "      <th></th>\n",
       "      <th>one</th>\n",
       "      <th>two</th>\n",
       "    </tr>\n",
       "  </thead>\n",
       "  <tbody>\n",
       "    <tr>\n",
       "      <th>a</th>\n",
       "      <td>0.559455</td>\n",
       "      <td>-0.325588</td>\n",
       "    </tr>\n",
       "    <tr>\n",
       "      <th>b</th>\n",
       "      <td>-1.870126</td>\n",
       "      <td>0.669804</td>\n",
       "    </tr>\n",
       "    <tr>\n",
       "      <th>c</th>\n",
       "      <td>1.495279</td>\n",
       "      <td>1.208667</td>\n",
       "    </tr>\n",
       "    <tr>\n",
       "      <th>d</th>\n",
       "      <td>0.090996</td>\n",
       "      <td>-0.059892</td>\n",
       "    </tr>\n",
       "    <tr>\n",
       "      <th>e</th>\n",
       "      <td>2.180371</td>\n",
       "      <td>NaN</td>\n",
       "    </tr>\n",
       "  </tbody>\n",
       "</table>\n",
       "</div>"
      ],
      "text/plain": [
       "        one       two\n",
       "a  0.559455 -0.325588\n",
       "b -1.870126  0.669804\n",
       "c  1.495279  1.208667\n",
       "d  0.090996 -0.059892\n",
       "e  2.180371       NaN"
      ]
     },
     "execution_count": 34,
     "metadata": {},
     "output_type": "execute_result"
    }
   ],
   "source": [
    "s1 = pd.Series(np.random.randn(5), index=['a', 'b', 'c', 'd', 'e'])\n",
    "s2 = pd.Series(np.random.randn(4), index=['a', 'b', 'c', 'd'])\n",
    "dic = {'one': s1, 'two': s2}\n",
    "df = pd.DataFrame(dic)\n",
    "df"
   ]
  },
  {
   "cell_type": "code",
   "execution_count": 35,
   "id": "88bd8f56",
   "metadata": {
    "ExecuteTime": {
     "start_time": "2024-02-27T12:24:11.950824Z"
    }
   },
   "outputs": [
    {
     "data": {
      "text/plain": [
       "Index(['one', 'two'], dtype='object')"
      ]
     },
     "execution_count": 35,
     "metadata": {},
     "output_type": "execute_result"
    }
   ],
   "source": [
    "df.columns"
   ]
  },
  {
   "cell_type": "code",
   "execution_count": 36,
   "id": "7b55742c",
   "metadata": {
    "ExecuteTime": {
     "start_time": "2024-02-27T12:24:11.952437Z"
    }
   },
   "outputs": [],
   "source": [
    "data = {\n",
    "    'Brand': ['Ford', 'Maserati', 'BMW', 'Ford', 'Lamborghini', 'Ferrari'],\n",
    "    'Electric': [False, True, False, True, True, False],\n",
    "    'Year': [1964, 1970, 1980, 1970, 1969, 1980],\n",
    "    'Price': [370.5, 234.6, 210.03, 347.9, 543.7, 784.1],\n",
    "    'Colors': ['red', 'white', 'black', 'white', 'blue', 'red']\n",
    "}\n"
   ]
  },
  {
   "cell_type": "code",
   "execution_count": 37,
   "id": "a7aa445f",
   "metadata": {
    "ExecuteTime": {
     "start_time": "2024-02-27T12:24:11.954260Z"
    }
   },
   "outputs": [
    {
     "data": {
      "text/plain": [
       "{'Brand': ['Ford', 'Maserati', 'BMW', 'Ford', 'Lamborghini', 'Ferrari'],\n",
       " 'Electric': [False, True, False, True, True, False],\n",
       " 'Year': [1964, 1970, 1980, 1970, 1969, 1980],\n",
       " 'Price': [370.5, 234.6, 210.03, 347.9, 543.7, 784.1],\n",
       " 'Colors': ['red', 'white', 'black', 'white', 'blue', 'red']}"
      ]
     },
     "execution_count": 37,
     "metadata": {},
     "output_type": "execute_result"
    }
   ],
   "source": [
    "data"
   ]
  },
  {
   "cell_type": "code",
   "execution_count": 38,
   "id": "8417c373",
   "metadata": {
    "ExecuteTime": {
     "start_time": "2024-02-27T12:24:11.955839Z"
    }
   },
   "outputs": [
    {
     "data": {
      "text/html": [
       "<div>\n",
       "<style scoped>\n",
       "    .dataframe tbody tr th:only-of-type {\n",
       "        vertical-align: middle;\n",
       "    }\n",
       "\n",
       "    .dataframe tbody tr th {\n",
       "        vertical-align: top;\n",
       "    }\n",
       "\n",
       "    .dataframe thead th {\n",
       "        text-align: right;\n",
       "    }\n",
       "</style>\n",
       "<table border=\"1\" class=\"dataframe\">\n",
       "  <thead>\n",
       "    <tr style=\"text-align: right;\">\n",
       "      <th></th>\n",
       "      <th>Brand</th>\n",
       "      <th>Electric</th>\n",
       "      <th>Year</th>\n",
       "      <th>Price</th>\n",
       "      <th>Colors</th>\n",
       "    </tr>\n",
       "  </thead>\n",
       "  <tbody>\n",
       "    <tr>\n",
       "      <th>0</th>\n",
       "      <td>Ford</td>\n",
       "      <td>False</td>\n",
       "      <td>1964</td>\n",
       "      <td>370.50</td>\n",
       "      <td>red</td>\n",
       "    </tr>\n",
       "    <tr>\n",
       "      <th>1</th>\n",
       "      <td>Maserati</td>\n",
       "      <td>True</td>\n",
       "      <td>1970</td>\n",
       "      <td>234.60</td>\n",
       "      <td>white</td>\n",
       "    </tr>\n",
       "    <tr>\n",
       "      <th>2</th>\n",
       "      <td>BMW</td>\n",
       "      <td>False</td>\n",
       "      <td>1980</td>\n",
       "      <td>210.03</td>\n",
       "      <td>black</td>\n",
       "    </tr>\n",
       "    <tr>\n",
       "      <th>3</th>\n",
       "      <td>Ford</td>\n",
       "      <td>True</td>\n",
       "      <td>1970</td>\n",
       "      <td>347.90</td>\n",
       "      <td>white</td>\n",
       "    </tr>\n",
       "    <tr>\n",
       "      <th>4</th>\n",
       "      <td>Lamborghini</td>\n",
       "      <td>True</td>\n",
       "      <td>1969</td>\n",
       "      <td>543.70</td>\n",
       "      <td>blue</td>\n",
       "    </tr>\n",
       "    <tr>\n",
       "      <th>5</th>\n",
       "      <td>Ferrari</td>\n",
       "      <td>False</td>\n",
       "      <td>1980</td>\n",
       "      <td>784.10</td>\n",
       "      <td>red</td>\n",
       "    </tr>\n",
       "  </tbody>\n",
       "</table>\n",
       "</div>"
      ],
      "text/plain": [
       "         Brand  Electric  Year   Price Colors\n",
       "0         Ford     False  1964  370.50    red\n",
       "1     Maserati      True  1970  234.60  white\n",
       "2          BMW     False  1980  210.03  black\n",
       "3         Ford      True  1970  347.90  white\n",
       "4  Lamborghini      True  1969  543.70   blue\n",
       "5      Ferrari     False  1980  784.10    red"
      ]
     },
     "execution_count": 38,
     "metadata": {},
     "output_type": "execute_result"
    }
   ],
   "source": [
    "df = pd.DataFrame(data)\n",
    "df"
   ]
  },
  {
   "cell_type": "code",
   "execution_count": 39,
   "id": "fbae7a03",
   "metadata": {
    "ExecuteTime": {
     "start_time": "2024-02-27T12:24:11.957435Z"
    }
   },
   "outputs": [
    {
     "data": {
      "text/html": [
       "<div>\n",
       "<style scoped>\n",
       "    .dataframe tbody tr th:only-of-type {\n",
       "        vertical-align: middle;\n",
       "    }\n",
       "\n",
       "    .dataframe tbody tr th {\n",
       "        vertical-align: top;\n",
       "    }\n",
       "\n",
       "    .dataframe thead th {\n",
       "        text-align: right;\n",
       "    }\n",
       "</style>\n",
       "<table border=\"1\" class=\"dataframe\">\n",
       "  <thead>\n",
       "    <tr style=\"text-align: right;\">\n",
       "      <th></th>\n",
       "      <th>Brand</th>\n",
       "      <th>Electric</th>\n",
       "      <th>Year</th>\n",
       "      <th>Price</th>\n",
       "      <th>Colors</th>\n",
       "    </tr>\n",
       "  </thead>\n",
       "  <tbody>\n",
       "    <tr>\n",
       "      <th>0</th>\n",
       "      <td>Ford</td>\n",
       "      <td>False</td>\n",
       "      <td>1964</td>\n",
       "      <td>370.5</td>\n",
       "      <td>red</td>\n",
       "    </tr>\n",
       "    <tr>\n",
       "      <th>1</th>\n",
       "      <td>Maserati</td>\n",
       "      <td>True</td>\n",
       "      <td>1970</td>\n",
       "      <td>234.6</td>\n",
       "      <td>white</td>\n",
       "    </tr>\n",
       "  </tbody>\n",
       "</table>\n",
       "</div>"
      ],
      "text/plain": [
       "      Brand  Electric  Year  Price Colors\n",
       "0      Ford     False  1964  370.5    red\n",
       "1  Maserati      True  1970  234.6  white"
      ]
     },
     "execution_count": 39,
     "metadata": {},
     "output_type": "execute_result"
    }
   ],
   "source": [
    "df.head(2)"
   ]
  },
  {
   "cell_type": "code",
   "execution_count": 40,
   "id": "c0a2bb34",
   "metadata": {
    "ExecuteTime": {
     "start_time": "2024-02-27T12:24:11.959980Z"
    }
   },
   "outputs": [
    {
     "data": {
      "text/html": [
       "<div>\n",
       "<style scoped>\n",
       "    .dataframe tbody tr th:only-of-type {\n",
       "        vertical-align: middle;\n",
       "    }\n",
       "\n",
       "    .dataframe tbody tr th {\n",
       "        vertical-align: top;\n",
       "    }\n",
       "\n",
       "    .dataframe thead th {\n",
       "        text-align: right;\n",
       "    }\n",
       "</style>\n",
       "<table border=\"1\" class=\"dataframe\">\n",
       "  <thead>\n",
       "    <tr style=\"text-align: right;\">\n",
       "      <th></th>\n",
       "      <th>Brand</th>\n",
       "      <th>Electric</th>\n",
       "      <th>Year</th>\n",
       "      <th>Price</th>\n",
       "      <th>Colors</th>\n",
       "      <th>Fuel</th>\n",
       "    </tr>\n",
       "  </thead>\n",
       "  <tbody>\n",
       "    <tr>\n",
       "      <th>0</th>\n",
       "      <td>Ford</td>\n",
       "      <td>False</td>\n",
       "      <td>1964</td>\n",
       "      <td>370.50</td>\n",
       "      <td>red</td>\n",
       "      <td>electric</td>\n",
       "    </tr>\n",
       "    <tr>\n",
       "      <th>1</th>\n",
       "      <td>Maserati</td>\n",
       "      <td>True</td>\n",
       "      <td>1970</td>\n",
       "      <td>234.60</td>\n",
       "      <td>white</td>\n",
       "      <td>hybrid</td>\n",
       "    </tr>\n",
       "    <tr>\n",
       "      <th>2</th>\n",
       "      <td>BMW</td>\n",
       "      <td>False</td>\n",
       "      <td>1980</td>\n",
       "      <td>210.03</td>\n",
       "      <td>black</td>\n",
       "      <td>petrol</td>\n",
       "    </tr>\n",
       "    <tr>\n",
       "      <th>3</th>\n",
       "      <td>Ford</td>\n",
       "      <td>True</td>\n",
       "      <td>1970</td>\n",
       "      <td>347.90</td>\n",
       "      <td>white</td>\n",
       "      <td>hybrid</td>\n",
       "    </tr>\n",
       "    <tr>\n",
       "      <th>4</th>\n",
       "      <td>Lamborghini</td>\n",
       "      <td>True</td>\n",
       "      <td>1969</td>\n",
       "      <td>543.70</td>\n",
       "      <td>blue</td>\n",
       "      <td>petrol</td>\n",
       "    </tr>\n",
       "    <tr>\n",
       "      <th>5</th>\n",
       "      <td>Ferrari</td>\n",
       "      <td>False</td>\n",
       "      <td>1980</td>\n",
       "      <td>784.10</td>\n",
       "      <td>red</td>\n",
       "      <td>electric</td>\n",
       "    </tr>\n",
       "  </tbody>\n",
       "</table>\n",
       "</div>"
      ],
      "text/plain": [
       "         Brand  Electric  Year   Price Colors      Fuel\n",
       "0         Ford     False  1964  370.50    red  electric\n",
       "1     Maserati      True  1970  234.60  white    hybrid\n",
       "2          BMW     False  1980  210.03  black    petrol\n",
       "3         Ford      True  1970  347.90  white    hybrid\n",
       "4  Lamborghini      True  1969  543.70   blue    petrol\n",
       "5      Ferrari     False  1980  784.10    red  electric"
      ]
     },
     "execution_count": 40,
     "metadata": {},
     "output_type": "execute_result"
    }
   ],
   "source": [
    "newCol = ['electric', 'hybrid', 'petrol', 'hybrid', 'petrol', 'electric']\n",
    "df['Fuel'] = newCol\n",
    "df"
   ]
  },
  {
   "cell_type": "code",
   "execution_count": 41,
   "id": "a05c0826",
   "metadata": {
    "ExecuteTime": {
     "start_time": "2024-02-27T12:24:11.962321Z"
    }
   },
   "outputs": [
    {
     "data": {
      "text/html": [
       "<div>\n",
       "<style scoped>\n",
       "    .dataframe tbody tr th:only-of-type {\n",
       "        vertical-align: middle;\n",
       "    }\n",
       "\n",
       "    .dataframe tbody tr th {\n",
       "        vertical-align: top;\n",
       "    }\n",
       "\n",
       "    .dataframe thead th {\n",
       "        text-align: right;\n",
       "    }\n",
       "</style>\n",
       "<table border=\"1\" class=\"dataframe\">\n",
       "  <thead>\n",
       "    <tr style=\"text-align: right;\">\n",
       "      <th></th>\n",
       "      <th>Brand</th>\n",
       "      <th>Electric</th>\n",
       "      <th>Year</th>\n",
       "      <th>Price</th>\n",
       "      <th>Colors</th>\n",
       "    </tr>\n",
       "  </thead>\n",
       "  <tbody>\n",
       "    <tr>\n",
       "      <th>one</th>\n",
       "      <td>Ford</td>\n",
       "      <td>False</td>\n",
       "      <td>1964</td>\n",
       "      <td>370.50</td>\n",
       "      <td>red</td>\n",
       "    </tr>\n",
       "    <tr>\n",
       "      <th>two</th>\n",
       "      <td>Maserati</td>\n",
       "      <td>True</td>\n",
       "      <td>1970</td>\n",
       "      <td>234.60</td>\n",
       "      <td>white</td>\n",
       "    </tr>\n",
       "    <tr>\n",
       "      <th>three</th>\n",
       "      <td>BMW</td>\n",
       "      <td>False</td>\n",
       "      <td>1980</td>\n",
       "      <td>210.03</td>\n",
       "      <td>black</td>\n",
       "    </tr>\n",
       "    <tr>\n",
       "      <th>four</th>\n",
       "      <td>Ford</td>\n",
       "      <td>True</td>\n",
       "      <td>1970</td>\n",
       "      <td>347.90</td>\n",
       "      <td>white</td>\n",
       "    </tr>\n",
       "    <tr>\n",
       "      <th>five</th>\n",
       "      <td>Lamborghini</td>\n",
       "      <td>True</td>\n",
       "      <td>1969</td>\n",
       "      <td>543.70</td>\n",
       "      <td>blue</td>\n",
       "    </tr>\n",
       "    <tr>\n",
       "      <th>six</th>\n",
       "      <td>Ferrari</td>\n",
       "      <td>False</td>\n",
       "      <td>1980</td>\n",
       "      <td>784.10</td>\n",
       "      <td>red</td>\n",
       "    </tr>\n",
       "  </tbody>\n",
       "</table>\n",
       "</div>"
      ],
      "text/plain": [
       "             Brand  Electric  Year   Price Colors\n",
       "one           Ford     False  1964  370.50    red\n",
       "two       Maserati      True  1970  234.60  white\n",
       "three          BMW     False  1980  210.03  black\n",
       "four          Ford      True  1970  347.90  white\n",
       "five   Lamborghini      True  1969  543.70   blue\n",
       "six        Ferrari     False  1980  784.10    red"
      ]
     },
     "execution_count": 41,
     "metadata": {},
     "output_type": "execute_result"
    }
   ],
   "source": [
    "pd.DataFrame(data, index=['one', 'two', 'three', 'four', 'five', 'six'])\n"
   ]
  },
  {
   "cell_type": "code",
   "execution_count": 42,
   "id": "546a7b98",
   "metadata": {
    "ExecuteTime": {
     "start_time": "2024-02-27T12:24:11.964660Z"
    }
   },
   "outputs": [
    {
     "data": {
      "text/plain": [
       "0    1964\n",
       "1    1970\n",
       "2    1980\n",
       "3    1970\n",
       "4    1969\n",
       "5    1980\n",
       "Name: Year, dtype: int64"
      ]
     },
     "execution_count": 42,
     "metadata": {},
     "output_type": "execute_result"
    }
   ],
   "source": [
    "df.Year"
   ]
  },
  {
   "cell_type": "code",
   "execution_count": 43,
   "id": "a00723d4",
   "metadata": {
    "ExecuteTime": {
     "start_time": "2024-02-27T12:24:11.966294Z"
    }
   },
   "outputs": [
    {
     "data": {
      "text/html": [
       "<div>\n",
       "<style scoped>\n",
       "    .dataframe tbody tr th:only-of-type {\n",
       "        vertical-align: middle;\n",
       "    }\n",
       "\n",
       "    .dataframe tbody tr th {\n",
       "        vertical-align: top;\n",
       "    }\n",
       "\n",
       "    .dataframe thead th {\n",
       "        text-align: right;\n",
       "    }\n",
       "</style>\n",
       "<table border=\"1\" class=\"dataframe\">\n",
       "  <thead>\n",
       "    <tr style=\"text-align: right;\">\n",
       "      <th></th>\n",
       "      <th>Brand</th>\n",
       "      <th>Electric</th>\n",
       "      <th>Year</th>\n",
       "      <th>Price</th>\n",
       "      <th>Colors</th>\n",
       "      <th>Fuel</th>\n",
       "    </tr>\n",
       "  </thead>\n",
       "  <tbody>\n",
       "    <tr>\n",
       "      <th>1</th>\n",
       "      <td>Maserati</td>\n",
       "      <td>True</td>\n",
       "      <td>1970</td>\n",
       "      <td>234.60</td>\n",
       "      <td>white</td>\n",
       "      <td>hybrid</td>\n",
       "    </tr>\n",
       "    <tr>\n",
       "      <th>2</th>\n",
       "      <td>BMW</td>\n",
       "      <td>False</td>\n",
       "      <td>1980</td>\n",
       "      <td>210.03</td>\n",
       "      <td>black</td>\n",
       "      <td>petrol</td>\n",
       "    </tr>\n",
       "  </tbody>\n",
       "</table>\n",
       "</div>"
      ],
      "text/plain": [
       "      Brand  Electric  Year   Price Colors    Fuel\n",
       "1  Maserati      True  1970  234.60  white  hybrid\n",
       "2       BMW     False  1980  210.03  black  petrol"
      ]
     },
     "execution_count": 43,
     "metadata": {},
     "output_type": "execute_result"
    }
   ],
   "source": [
    "df[1:3]"
   ]
  },
  {
   "cell_type": "code",
   "execution_count": 44,
   "id": "5c70f4e1",
   "metadata": {
    "ExecuteTime": {
     "start_time": "2024-02-27T12:24:11.967998Z"
    }
   },
   "outputs": [
    {
     "data": {
      "text/plain": [
       "0           Ford\n",
       "1       Maserati\n",
       "2            BMW\n",
       "3           Ford\n",
       "4    Lamborghini\n",
       "5        Ferrari\n",
       "Name: Brand, dtype: object"
      ]
     },
     "execution_count": 44,
     "metadata": {},
     "output_type": "execute_result"
    }
   ],
   "source": [
    "df['Brand']"
   ]
  },
  {
   "cell_type": "code",
   "execution_count": 45,
   "id": "0486941d",
   "metadata": {
    "ExecuteTime": {
     "start_time": "2024-02-27T12:24:11.969343Z"
    }
   },
   "outputs": [
    {
     "data": {
      "text/html": [
       "<div>\n",
       "<style scoped>\n",
       "    .dataframe tbody tr th:only-of-type {\n",
       "        vertical-align: middle;\n",
       "    }\n",
       "\n",
       "    .dataframe tbody tr th {\n",
       "        vertical-align: top;\n",
       "    }\n",
       "\n",
       "    .dataframe thead th {\n",
       "        text-align: right;\n",
       "    }\n",
       "</style>\n",
       "<table border=\"1\" class=\"dataframe\">\n",
       "  <thead>\n",
       "    <tr style=\"text-align: right;\">\n",
       "      <th></th>\n",
       "      <th>Brand</th>\n",
       "      <th>Year</th>\n",
       "    </tr>\n",
       "  </thead>\n",
       "  <tbody>\n",
       "    <tr>\n",
       "      <th>0</th>\n",
       "      <td>Ford</td>\n",
       "      <td>1964</td>\n",
       "    </tr>\n",
       "    <tr>\n",
       "      <th>1</th>\n",
       "      <td>Maserati</td>\n",
       "      <td>1970</td>\n",
       "    </tr>\n",
       "    <tr>\n",
       "      <th>2</th>\n",
       "      <td>BMW</td>\n",
       "      <td>1980</td>\n",
       "    </tr>\n",
       "    <tr>\n",
       "      <th>3</th>\n",
       "      <td>Ford</td>\n",
       "      <td>1970</td>\n",
       "    </tr>\n",
       "    <tr>\n",
       "      <th>4</th>\n",
       "      <td>Lamborghini</td>\n",
       "      <td>1969</td>\n",
       "    </tr>\n",
       "    <tr>\n",
       "      <th>5</th>\n",
       "      <td>Ferrari</td>\n",
       "      <td>1980</td>\n",
       "    </tr>\n",
       "  </tbody>\n",
       "</table>\n",
       "</div>"
      ],
      "text/plain": [
       "         Brand  Year\n",
       "0         Ford  1964\n",
       "1     Maserati  1970\n",
       "2          BMW  1980\n",
       "3         Ford  1970\n",
       "4  Lamborghini  1969\n",
       "5      Ferrari  1980"
      ]
     },
     "execution_count": 45,
     "metadata": {},
     "output_type": "execute_result"
    }
   ],
   "source": [
    "df[['Brand', 'Year']]"
   ]
  },
  {
   "cell_type": "code",
   "execution_count": 46,
   "id": "33f3ca2c",
   "metadata": {
    "ExecuteTime": {
     "start_time": "2024-02-27T12:24:11.970749Z"
    }
   },
   "outputs": [
    {
     "data": {
      "text/plain": [
       "{'Math': {'Ali': 85, 'Berk': 90, 'Can': 95},\n",
       " 'Physics': {'Ali': 90, 'Berk': 80, 'Can': 75}}"
      ]
     },
     "execution_count": 46,
     "metadata": {},
     "output_type": "execute_result"
    }
   ],
   "source": [
    "scores={\n",
    "    'Math': {'Ali': 85, 'Berk': 90, 'Can':95},\n",
    "    'Physics': {'Ali': 90, 'Berk': 80, 'Can':75}\n",
    "}\n",
    "scores"
   ]
  },
  {
   "cell_type": "code",
   "execution_count": 47,
   "id": "248b95f5",
   "metadata": {
    "ExecuteTime": {
     "start_time": "2024-02-27T12:24:11.972577Z"
    }
   },
   "outputs": [
    {
     "data": {
      "text/html": [
       "<div>\n",
       "<style scoped>\n",
       "    .dataframe tbody tr th:only-of-type {\n",
       "        vertical-align: middle;\n",
       "    }\n",
       "\n",
       "    .dataframe tbody tr th {\n",
       "        vertical-align: top;\n",
       "    }\n",
       "\n",
       "    .dataframe thead th {\n",
       "        text-align: right;\n",
       "    }\n",
       "</style>\n",
       "<table border=\"1\" class=\"dataframe\">\n",
       "  <thead>\n",
       "    <tr style=\"text-align: right;\">\n",
       "      <th></th>\n",
       "      <th>Math</th>\n",
       "      <th>Physics</th>\n",
       "    </tr>\n",
       "  </thead>\n",
       "  <tbody>\n",
       "    <tr>\n",
       "      <th>Ali</th>\n",
       "      <td>85</td>\n",
       "      <td>90</td>\n",
       "    </tr>\n",
       "    <tr>\n",
       "      <th>Berk</th>\n",
       "      <td>90</td>\n",
       "      <td>80</td>\n",
       "    </tr>\n",
       "    <tr>\n",
       "      <th>Can</th>\n",
       "      <td>95</td>\n",
       "      <td>75</td>\n",
       "    </tr>\n",
       "  </tbody>\n",
       "</table>\n",
       "</div>"
      ],
      "text/plain": [
       "      Math  Physics\n",
       "Ali     85       90\n",
       "Berk    90       80\n",
       "Can     95       75"
      ]
     },
     "execution_count": 47,
     "metadata": {},
     "output_type": "execute_result"
    }
   ],
   "source": [
    "dfScores = pd.DataFrame(scores)\n",
    "dfScores"
   ]
  },
  {
   "cell_type": "code",
   "execution_count": 48,
   "id": "ca70e8ba",
   "metadata": {
    "ExecuteTime": {
     "start_time": "2024-02-27T12:24:11.973980Z"
    }
   },
   "outputs": [
    {
     "data": {
      "text/html": [
       "<div>\n",
       "<style scoped>\n",
       "    .dataframe tbody tr th:only-of-type {\n",
       "        vertical-align: middle;\n",
       "    }\n",
       "\n",
       "    .dataframe tbody tr th {\n",
       "        vertical-align: top;\n",
       "    }\n",
       "\n",
       "    .dataframe thead th {\n",
       "        text-align: right;\n",
       "    }\n",
       "</style>\n",
       "<table border=\"1\" class=\"dataframe\">\n",
       "  <thead>\n",
       "    <tr style=\"text-align: right;\">\n",
       "      <th></th>\n",
       "      <th>Math</th>\n",
       "      <th>Physics</th>\n",
       "    </tr>\n",
       "    <tr>\n",
       "      <th>Name</th>\n",
       "      <th></th>\n",
       "      <th></th>\n",
       "    </tr>\n",
       "  </thead>\n",
       "  <tbody>\n",
       "    <tr>\n",
       "      <th>Ali</th>\n",
       "      <td>85</td>\n",
       "      <td>90</td>\n",
       "    </tr>\n",
       "    <tr>\n",
       "      <th>Berk</th>\n",
       "      <td>90</td>\n",
       "      <td>80</td>\n",
       "    </tr>\n",
       "    <tr>\n",
       "      <th>Can</th>\n",
       "      <td>95</td>\n",
       "      <td>75</td>\n",
       "    </tr>\n",
       "  </tbody>\n",
       "</table>\n",
       "</div>"
      ],
      "text/plain": [
       "      Math  Physics\n",
       "Name               \n",
       "Ali     85       90\n",
       "Berk    90       80\n",
       "Can     95       75"
      ]
     },
     "execution_count": 48,
     "metadata": {},
     "output_type": "execute_result"
    }
   ],
   "source": [
    "dfScores.index.name='Name'\n",
    "dfScores"
   ]
  },
  {
   "cell_type": "code",
   "execution_count": 49,
   "id": "c944c269",
   "metadata": {
    "ExecuteTime": {
     "start_time": "2024-02-27T12:24:11.975449Z"
    }
   },
   "outputs": [
    {
     "data": {
      "text/plain": [
       "Index(['Math', 'Physics'], dtype='object')"
      ]
     },
     "execution_count": 49,
     "metadata": {},
     "output_type": "execute_result"
    }
   ],
   "source": [
    "dfScores.columns"
   ]
  },
  {
   "cell_type": "code",
   "execution_count": 50,
   "id": "eeef8c46",
   "metadata": {
    "ExecuteTime": {
     "start_time": "2024-02-27T12:24:11.976669Z"
    }
   },
   "outputs": [
    {
     "data": {
      "text/html": [
       "<div>\n",
       "<style scoped>\n",
       "    .dataframe tbody tr th:only-of-type {\n",
       "        vertical-align: middle;\n",
       "    }\n",
       "\n",
       "    .dataframe tbody tr th {\n",
       "        vertical-align: top;\n",
       "    }\n",
       "\n",
       "    .dataframe thead th {\n",
       "        text-align: right;\n",
       "    }\n",
       "</style>\n",
       "<table border=\"1\" class=\"dataframe\">\n",
       "  <thead>\n",
       "    <tr style=\"text-align: right;\">\n",
       "      <th>Lesson</th>\n",
       "      <th>Math</th>\n",
       "      <th>Physics</th>\n",
       "    </tr>\n",
       "    <tr>\n",
       "      <th>Name</th>\n",
       "      <th></th>\n",
       "      <th></th>\n",
       "    </tr>\n",
       "  </thead>\n",
       "  <tbody>\n",
       "    <tr>\n",
       "      <th>Ali</th>\n",
       "      <td>85</td>\n",
       "      <td>90</td>\n",
       "    </tr>\n",
       "    <tr>\n",
       "      <th>Berk</th>\n",
       "      <td>90</td>\n",
       "      <td>80</td>\n",
       "    </tr>\n",
       "    <tr>\n",
       "      <th>Can</th>\n",
       "      <td>95</td>\n",
       "      <td>75</td>\n",
       "    </tr>\n",
       "  </tbody>\n",
       "</table>\n",
       "</div>"
      ],
      "text/plain": [
       "Lesson  Math  Physics\n",
       "Name                 \n",
       "Ali       85       90\n",
       "Berk      90       80\n",
       "Can       95       75"
      ]
     },
     "execution_count": 50,
     "metadata": {},
     "output_type": "execute_result"
    }
   ],
   "source": [
    "dfScores.columns.name='Lesson'\n",
    "dfScores"
   ]
  },
  {
   "cell_type": "code",
   "execution_count": 51,
   "id": "59cd72f5",
   "metadata": {
    "ExecuteTime": {
     "start_time": "2024-02-27T12:24:11.978027Z"
    }
   },
   "outputs": [
    {
     "data": {
      "text/html": [
       "<div>\n",
       "<style scoped>\n",
       "    .dataframe tbody tr th:only-of-type {\n",
       "        vertical-align: middle;\n",
       "    }\n",
       "\n",
       "    .dataframe tbody tr th {\n",
       "        vertical-align: top;\n",
       "    }\n",
       "\n",
       "    .dataframe thead th {\n",
       "        text-align: right;\n",
       "    }\n",
       "</style>\n",
       "<table border=\"1\" class=\"dataframe\">\n",
       "  <thead>\n",
       "    <tr style=\"text-align: right;\">\n",
       "      <th>Lesson</th>\n",
       "      <th>Math</th>\n",
       "      <th>Physics</th>\n",
       "    </tr>\n",
       "    <tr>\n",
       "      <th>Name</th>\n",
       "      <th></th>\n",
       "      <th></th>\n",
       "    </tr>\n",
       "  </thead>\n",
       "  <tbody>\n",
       "    <tr>\n",
       "      <th>Berk</th>\n",
       "      <td>90</td>\n",
       "      <td>80</td>\n",
       "    </tr>\n",
       "    <tr>\n",
       "      <th>Ali</th>\n",
       "      <td>85</td>\n",
       "      <td>90</td>\n",
       "    </tr>\n",
       "    <tr>\n",
       "      <th>Can</th>\n",
       "      <td>95</td>\n",
       "      <td>75</td>\n",
       "    </tr>\n",
       "  </tbody>\n",
       "</table>\n",
       "</div>"
      ],
      "text/plain": [
       "Lesson  Math  Physics\n",
       "Name                 \n",
       "Berk      90       80\n",
       "Ali       85       90\n",
       "Can       95       75"
      ]
     },
     "execution_count": 51,
     "metadata": {},
     "output_type": "execute_result"
    }
   ],
   "source": [
    "dfScores1 = dfScores.reindex(['Berk', 'Ali', 'Can'])\n",
    "dfScores1"
   ]
  },
  {
   "cell_type": "code",
   "execution_count": 52,
   "id": "e269077f",
   "metadata": {
    "ExecuteTime": {
     "start_time": "2024-02-27T12:24:11.979457Z"
    }
   },
   "outputs": [
    {
     "data": {
      "text/html": [
       "<div>\n",
       "<style scoped>\n",
       "    .dataframe tbody tr th:only-of-type {\n",
       "        vertical-align: middle;\n",
       "    }\n",
       "\n",
       "    .dataframe tbody tr th {\n",
       "        vertical-align: top;\n",
       "    }\n",
       "\n",
       "    .dataframe thead th {\n",
       "        text-align: right;\n",
       "    }\n",
       "</style>\n",
       "<table border=\"1\" class=\"dataframe\">\n",
       "  <thead>\n",
       "    <tr style=\"text-align: right;\">\n",
       "      <th>Lesson</th>\n",
       "      <th>Physics</th>\n",
       "      <th>Math</th>\n",
       "    </tr>\n",
       "    <tr>\n",
       "      <th>Name</th>\n",
       "      <th></th>\n",
       "      <th></th>\n",
       "    </tr>\n",
       "  </thead>\n",
       "  <tbody>\n",
       "    <tr>\n",
       "      <th>Ali</th>\n",
       "      <td>90</td>\n",
       "      <td>85</td>\n",
       "    </tr>\n",
       "    <tr>\n",
       "      <th>Berk</th>\n",
       "      <td>80</td>\n",
       "      <td>90</td>\n",
       "    </tr>\n",
       "    <tr>\n",
       "      <th>Can</th>\n",
       "      <td>75</td>\n",
       "      <td>95</td>\n",
       "    </tr>\n",
       "  </tbody>\n",
       "</table>\n",
       "</div>"
      ],
      "text/plain": [
       "Lesson  Physics  Math\n",
       "Name                 \n",
       "Ali          90    85\n",
       "Berk         80    90\n",
       "Can          75    95"
      ]
     },
     "execution_count": 52,
     "metadata": {},
     "output_type": "execute_result"
    }
   ],
   "source": [
    "lessons=['Physics', 'Math']\n",
    "dfScores.reindex(columns=lessons)"
   ]
  },
  {
   "cell_type": "code",
   "execution_count": 53,
   "id": "881d8411",
   "metadata": {
    "ExecuteTime": {
     "start_time": "2024-02-27T12:24:11.980460Z"
    }
   },
   "outputs": [
    {
     "data": {
      "text/plain": [
       "Ali       67\n",
       "Veli      88\n",
       "Ayse      94\n",
       "Can       34\n",
       "Zeynep    45\n",
       "Zehra     74\n",
       "dtype: int64"
      ]
     },
     "execution_count": 53,
     "metadata": {},
     "output_type": "execute_result"
    }
   ],
   "source": [
    "series"
   ]
  },
  {
   "cell_type": "code",
   "execution_count": 54,
   "id": "51533641",
   "metadata": {
    "ExecuteTime": {
     "start_time": "2024-02-27T12:24:11.981473Z"
    }
   },
   "outputs": [
    {
     "data": {
      "text/plain": [
       "67"
      ]
     },
     "execution_count": 54,
     "metadata": {},
     "output_type": "execute_result"
    }
   ],
   "source": [
    "series.iloc[0]"
   ]
  },
  {
   "cell_type": "code",
   "execution_count": 55,
   "id": "04b600fe",
   "metadata": {
    "ExecuteTime": {
     "start_time": "2024-02-27T12:24:11.982494Z"
    }
   },
   "outputs": [
    {
     "data": {
      "text/plain": [
       "Veli      88\n",
       "Can       34\n",
       "Zeynep    45\n",
       "dtype: int64"
      ]
     },
     "execution_count": 55,
     "metadata": {},
     "output_type": "execute_result"
    }
   ],
   "source": [
    "series.iloc[[False,True,False,True,True,False]]"
   ]
  },
  {
   "cell_type": "code",
   "execution_count": 56,
   "id": "f499327c",
   "metadata": {
    "ExecuteTime": {
     "start_time": "2024-02-27T12:24:11.983422Z"
    }
   },
   "outputs": [
    {
     "data": {
      "text/html": [
       "<div>\n",
       "<style scoped>\n",
       "    .dataframe tbody tr th:only-of-type {\n",
       "        vertical-align: middle;\n",
       "    }\n",
       "\n",
       "    .dataframe tbody tr th {\n",
       "        vertical-align: top;\n",
       "    }\n",
       "\n",
       "    .dataframe thead th {\n",
       "        text-align: right;\n",
       "    }\n",
       "</style>\n",
       "<table border=\"1\" class=\"dataframe\">\n",
       "  <thead>\n",
       "    <tr style=\"text-align: right;\">\n",
       "      <th></th>\n",
       "      <th>Brand</th>\n",
       "      <th>Electric</th>\n",
       "      <th>Year</th>\n",
       "      <th>Price</th>\n",
       "      <th>Colors</th>\n",
       "      <th>Fuel</th>\n",
       "    </tr>\n",
       "  </thead>\n",
       "  <tbody>\n",
       "    <tr>\n",
       "      <th>0</th>\n",
       "      <td>Ford</td>\n",
       "      <td>False</td>\n",
       "      <td>1964</td>\n",
       "      <td>370.50</td>\n",
       "      <td>red</td>\n",
       "      <td>electric</td>\n",
       "    </tr>\n",
       "    <tr>\n",
       "      <th>1</th>\n",
       "      <td>Maserati</td>\n",
       "      <td>True</td>\n",
       "      <td>1970</td>\n",
       "      <td>234.60</td>\n",
       "      <td>white</td>\n",
       "      <td>hybrid</td>\n",
       "    </tr>\n",
       "    <tr>\n",
       "      <th>2</th>\n",
       "      <td>BMW</td>\n",
       "      <td>False</td>\n",
       "      <td>1980</td>\n",
       "      <td>210.03</td>\n",
       "      <td>black</td>\n",
       "      <td>petrol</td>\n",
       "    </tr>\n",
       "    <tr>\n",
       "      <th>3</th>\n",
       "      <td>Ford</td>\n",
       "      <td>True</td>\n",
       "      <td>1970</td>\n",
       "      <td>347.90</td>\n",
       "      <td>white</td>\n",
       "      <td>hybrid</td>\n",
       "    </tr>\n",
       "    <tr>\n",
       "      <th>4</th>\n",
       "      <td>Lamborghini</td>\n",
       "      <td>True</td>\n",
       "      <td>1969</td>\n",
       "      <td>543.70</td>\n",
       "      <td>blue</td>\n",
       "      <td>petrol</td>\n",
       "    </tr>\n",
       "    <tr>\n",
       "      <th>5</th>\n",
       "      <td>Ferrari</td>\n",
       "      <td>False</td>\n",
       "      <td>1980</td>\n",
       "      <td>784.10</td>\n",
       "      <td>red</td>\n",
       "      <td>electric</td>\n",
       "    </tr>\n",
       "  </tbody>\n",
       "</table>\n",
       "</div>"
      ],
      "text/plain": [
       "         Brand  Electric  Year   Price Colors      Fuel\n",
       "0         Ford     False  1964  370.50    red  electric\n",
       "1     Maserati      True  1970  234.60  white    hybrid\n",
       "2          BMW     False  1980  210.03  black    petrol\n",
       "3         Ford      True  1970  347.90  white    hybrid\n",
       "4  Lamborghini      True  1969  543.70   blue    petrol\n",
       "5      Ferrari     False  1980  784.10    red  electric"
      ]
     },
     "execution_count": 56,
     "metadata": {},
     "output_type": "execute_result"
    }
   ],
   "source": [
    "df"
   ]
  },
  {
   "cell_type": "code",
   "execution_count": 57,
   "id": "ea5750ee",
   "metadata": {
    "ExecuteTime": {
     "start_time": "2024-02-27T12:24:11.984399Z"
    }
   },
   "outputs": [
    {
     "data": {
      "text/plain": [
       "Brand       Maserati\n",
       "Electric        True\n",
       "Year            1970\n",
       "Price          234.6\n",
       "Colors         white\n",
       "Fuel          hybrid\n",
       "Name: 1, dtype: object"
      ]
     },
     "execution_count": 57,
     "metadata": {},
     "output_type": "execute_result"
    }
   ],
   "source": [
    "df.iloc[1]"
   ]
  },
  {
   "cell_type": "code",
   "execution_count": 58,
   "id": "6dde206b",
   "metadata": {
    "ExecuteTime": {
     "start_time": "2024-02-27T12:24:11.985371Z"
    }
   },
   "outputs": [
    {
     "data": {
      "text/html": [
       "<div>\n",
       "<style scoped>\n",
       "    .dataframe tbody tr th:only-of-type {\n",
       "        vertical-align: middle;\n",
       "    }\n",
       "\n",
       "    .dataframe tbody tr th {\n",
       "        vertical-align: top;\n",
       "    }\n",
       "\n",
       "    .dataframe thead th {\n",
       "        text-align: right;\n",
       "    }\n",
       "</style>\n",
       "<table border=\"1\" class=\"dataframe\">\n",
       "  <thead>\n",
       "    <tr style=\"text-align: right;\">\n",
       "      <th></th>\n",
       "      <th>Brand</th>\n",
       "      <th>Electric</th>\n",
       "      <th>Year</th>\n",
       "      <th>Price</th>\n",
       "      <th>Colors</th>\n",
       "      <th>Fuel</th>\n",
       "    </tr>\n",
       "  </thead>\n",
       "  <tbody>\n",
       "    <tr>\n",
       "      <th>1</th>\n",
       "      <td>Maserati</td>\n",
       "      <td>True</td>\n",
       "      <td>1970</td>\n",
       "      <td>234.60</td>\n",
       "      <td>white</td>\n",
       "      <td>hybrid</td>\n",
       "    </tr>\n",
       "    <tr>\n",
       "      <th>2</th>\n",
       "      <td>BMW</td>\n",
       "      <td>False</td>\n",
       "      <td>1980</td>\n",
       "      <td>210.03</td>\n",
       "      <td>black</td>\n",
       "      <td>petrol</td>\n",
       "    </tr>\n",
       "  </tbody>\n",
       "</table>\n",
       "</div>"
      ],
      "text/plain": [
       "      Brand  Electric  Year   Price Colors    Fuel\n",
       "1  Maserati      True  1970  234.60  white  hybrid\n",
       "2       BMW     False  1980  210.03  black  petrol"
      ]
     },
     "execution_count": 58,
     "metadata": {},
     "output_type": "execute_result"
    }
   ],
   "source": [
    "df.iloc[1:3]"
   ]
  },
  {
   "cell_type": "code",
   "execution_count": 59,
   "id": "6c5abd3c",
   "metadata": {
    "ExecuteTime": {
     "start_time": "2024-02-27T12:24:11.986247Z"
    }
   },
   "outputs": [
    {
     "data": {
      "text/html": [
       "<div>\n",
       "<style scoped>\n",
       "    .dataframe tbody tr th:only-of-type {\n",
       "        vertical-align: middle;\n",
       "    }\n",
       "\n",
       "    .dataframe tbody tr th {\n",
       "        vertical-align: top;\n",
       "    }\n",
       "\n",
       "    .dataframe thead th {\n",
       "        text-align: right;\n",
       "    }\n",
       "</style>\n",
       "<table border=\"1\" class=\"dataframe\">\n",
       "  <thead>\n",
       "    <tr style=\"text-align: right;\">\n",
       "      <th></th>\n",
       "      <th>Brand</th>\n",
       "      <th>Electric</th>\n",
       "      <th>Year</th>\n",
       "      <th>Price</th>\n",
       "      <th>Colors</th>\n",
       "      <th>Fuel</th>\n",
       "    </tr>\n",
       "  </thead>\n",
       "  <tbody>\n",
       "    <tr>\n",
       "      <th>0</th>\n",
       "      <td>Ford</td>\n",
       "      <td>False</td>\n",
       "      <td>1964</td>\n",
       "      <td>370.5</td>\n",
       "      <td>red</td>\n",
       "      <td>electric</td>\n",
       "    </tr>\n",
       "    <tr>\n",
       "      <th>3</th>\n",
       "      <td>Ford</td>\n",
       "      <td>True</td>\n",
       "      <td>1970</td>\n",
       "      <td>347.9</td>\n",
       "      <td>white</td>\n",
       "      <td>hybrid</td>\n",
       "    </tr>\n",
       "  </tbody>\n",
       "</table>\n",
       "</div>"
      ],
      "text/plain": [
       "  Brand  Electric  Year  Price Colors      Fuel\n",
       "0  Ford     False  1964  370.5    red  electric\n",
       "3  Ford      True  1970  347.9  white    hybrid"
      ]
     },
     "execution_count": 59,
     "metadata": {},
     "output_type": "execute_result"
    }
   ],
   "source": [
    "df.iloc[[0,3]]"
   ]
  },
  {
   "cell_type": "code",
   "execution_count": 60,
   "id": "fbd7013b",
   "metadata": {
    "ExecuteTime": {
     "start_time": "2024-02-27T12:24:11.987196Z"
    }
   },
   "outputs": [
    {
     "data": {
      "text/html": [
       "<div>\n",
       "<style scoped>\n",
       "    .dataframe tbody tr th:only-of-type {\n",
       "        vertical-align: middle;\n",
       "    }\n",
       "\n",
       "    .dataframe tbody tr th {\n",
       "        vertical-align: top;\n",
       "    }\n",
       "\n",
       "    .dataframe thead th {\n",
       "        text-align: right;\n",
       "    }\n",
       "</style>\n",
       "<table border=\"1\" class=\"dataframe\">\n",
       "  <thead>\n",
       "    <tr style=\"text-align: right;\">\n",
       "      <th></th>\n",
       "      <th>Brand</th>\n",
       "      <th>Electric</th>\n",
       "      <th>Year</th>\n",
       "      <th>Price</th>\n",
       "      <th>Colors</th>\n",
       "      <th>Fuel</th>\n",
       "    </tr>\n",
       "  </thead>\n",
       "  <tbody>\n",
       "    <tr>\n",
       "      <th>0</th>\n",
       "      <td>Ford</td>\n",
       "      <td>False</td>\n",
       "      <td>1964</td>\n",
       "      <td>370.50</td>\n",
       "      <td>red</td>\n",
       "      <td>electric</td>\n",
       "    </tr>\n",
       "    <tr>\n",
       "      <th>2</th>\n",
       "      <td>BMW</td>\n",
       "      <td>False</td>\n",
       "      <td>1980</td>\n",
       "      <td>210.03</td>\n",
       "      <td>black</td>\n",
       "      <td>petrol</td>\n",
       "    </tr>\n",
       "    <tr>\n",
       "      <th>4</th>\n",
       "      <td>Lamborghini</td>\n",
       "      <td>True</td>\n",
       "      <td>1969</td>\n",
       "      <td>543.70</td>\n",
       "      <td>blue</td>\n",
       "      <td>petrol</td>\n",
       "    </tr>\n",
       "  </tbody>\n",
       "</table>\n",
       "</div>"
      ],
      "text/plain": [
       "         Brand  Electric  Year   Price Colors      Fuel\n",
       "0         Ford     False  1964  370.50    red  electric\n",
       "2          BMW     False  1980  210.03  black    petrol\n",
       "4  Lamborghini      True  1969  543.70   blue    petrol"
      ]
     },
     "execution_count": 60,
     "metadata": {},
     "output_type": "execute_result"
    }
   ],
   "source": [
    "df.iloc[[True, False, True, False, True, False]]"
   ]
  },
  {
   "cell_type": "code",
   "execution_count": 61,
   "id": "e012de68",
   "metadata": {
    "ExecuteTime": {
     "start_time": "2024-02-27T12:24:11.988008Z"
    }
   },
   "outputs": [
    {
     "data": {
      "text/html": [
       "<div>\n",
       "<style scoped>\n",
       "    .dataframe tbody tr th:only-of-type {\n",
       "        vertical-align: middle;\n",
       "    }\n",
       "\n",
       "    .dataframe tbody tr th {\n",
       "        vertical-align: top;\n",
       "    }\n",
       "\n",
       "    .dataframe thead th {\n",
       "        text-align: right;\n",
       "    }\n",
       "</style>\n",
       "<table border=\"1\" class=\"dataframe\">\n",
       "  <thead>\n",
       "    <tr style=\"text-align: right;\">\n",
       "      <th></th>\n",
       "      <th>Brand</th>\n",
       "      <th>Electric</th>\n",
       "      <th>Year</th>\n",
       "      <th>Price</th>\n",
       "      <th>Colors</th>\n",
       "      <th>Fuel</th>\n",
       "    </tr>\n",
       "  </thead>\n",
       "  <tbody>\n",
       "    <tr>\n",
       "      <th>0</th>\n",
       "      <td>Ford</td>\n",
       "      <td>False</td>\n",
       "      <td>1964</td>\n",
       "      <td>370.50</td>\n",
       "      <td>red</td>\n",
       "      <td>electric</td>\n",
       "    </tr>\n",
       "    <tr>\n",
       "      <th>2</th>\n",
       "      <td>BMW</td>\n",
       "      <td>False</td>\n",
       "      <td>1980</td>\n",
       "      <td>210.03</td>\n",
       "      <td>black</td>\n",
       "      <td>petrol</td>\n",
       "    </tr>\n",
       "    <tr>\n",
       "      <th>4</th>\n",
       "      <td>Lamborghini</td>\n",
       "      <td>True</td>\n",
       "      <td>1969</td>\n",
       "      <td>543.70</td>\n",
       "      <td>blue</td>\n",
       "      <td>petrol</td>\n",
       "    </tr>\n",
       "  </tbody>\n",
       "</table>\n",
       "</div>"
      ],
      "text/plain": [
       "         Brand  Electric  Year   Price Colors      Fuel\n",
       "0         Ford     False  1964  370.50    red  electric\n",
       "2          BMW     False  1980  210.03  black    petrol\n",
       "4  Lamborghini      True  1969  543.70   blue    petrol"
      ]
     },
     "execution_count": 61,
     "metadata": {},
     "output_type": "execute_result"
    }
   ],
   "source": [
    "df.iloc[lambda x: x.index % 2 == 0]"
   ]
  },
  {
   "cell_type": "code",
   "execution_count": 62,
   "id": "c0544b0a",
   "metadata": {
    "ExecuteTime": {
     "start_time": "2024-02-27T12:24:11.988901Z"
    }
   },
   "outputs": [
    {
     "data": {
      "text/plain": [
       "234.6"
      ]
     },
     "execution_count": 62,
     "metadata": {},
     "output_type": "execute_result"
    }
   ],
   "source": [
    "df.iloc[1,3]"
   ]
  },
  {
   "cell_type": "code",
   "execution_count": 63,
   "id": "4186756f",
   "metadata": {
    "ExecuteTime": {
     "start_time": "2024-02-27T12:24:11.989808Z"
    }
   },
   "outputs": [
    {
     "data": {
      "text/html": [
       "<div>\n",
       "<style scoped>\n",
       "    .dataframe tbody tr th:only-of-type {\n",
       "        vertical-align: middle;\n",
       "    }\n",
       "\n",
       "    .dataframe tbody tr th {\n",
       "        vertical-align: top;\n",
       "    }\n",
       "\n",
       "    .dataframe thead th {\n",
       "        text-align: right;\n",
       "    }\n",
       "</style>\n",
       "<table border=\"1\" class=\"dataframe\">\n",
       "  <thead>\n",
       "    <tr style=\"text-align: right;\">\n",
       "      <th></th>\n",
       "      <th>Brand</th>\n",
       "      <th>Price</th>\n",
       "    </tr>\n",
       "  </thead>\n",
       "  <tbody>\n",
       "    <tr>\n",
       "      <th>1</th>\n",
       "      <td>Maserati</td>\n",
       "      <td>234.60</td>\n",
       "    </tr>\n",
       "    <tr>\n",
       "      <th>2</th>\n",
       "      <td>BMW</td>\n",
       "      <td>210.03</td>\n",
       "    </tr>\n",
       "  </tbody>\n",
       "</table>\n",
       "</div>"
      ],
      "text/plain": [
       "      Brand   Price\n",
       "1  Maserati  234.60\n",
       "2       BMW  210.03"
      ]
     },
     "execution_count": 63,
     "metadata": {},
     "output_type": "execute_result"
    }
   ],
   "source": [
    "df.iloc[[1,2], [0,3]]"
   ]
  },
  {
   "cell_type": "code",
   "execution_count": 64,
   "id": "a6ccac4e",
   "metadata": {
    "ExecuteTime": {
     "start_time": "2024-02-27T12:24:11.990639Z"
    }
   },
   "outputs": [
    {
     "data": {
      "text/html": [
       "<div>\n",
       "<style scoped>\n",
       "    .dataframe tbody tr th:only-of-type {\n",
       "        vertical-align: middle;\n",
       "    }\n",
       "\n",
       "    .dataframe tbody tr th {\n",
       "        vertical-align: top;\n",
       "    }\n",
       "\n",
       "    .dataframe thead th {\n",
       "        text-align: right;\n",
       "    }\n",
       "</style>\n",
       "<table border=\"1\" class=\"dataframe\">\n",
       "  <thead>\n",
       "    <tr style=\"text-align: right;\">\n",
       "      <th></th>\n",
       "      <th>Brand</th>\n",
       "      <th>Electric</th>\n",
       "      <th>Year</th>\n",
       "    </tr>\n",
       "  </thead>\n",
       "  <tbody>\n",
       "    <tr>\n",
       "      <th>1</th>\n",
       "      <td>Maserati</td>\n",
       "      <td>True</td>\n",
       "      <td>1970</td>\n",
       "    </tr>\n",
       "    <tr>\n",
       "      <th>2</th>\n",
       "      <td>BMW</td>\n",
       "      <td>False</td>\n",
       "      <td>1980</td>\n",
       "    </tr>\n",
       "    <tr>\n",
       "      <th>3</th>\n",
       "      <td>Ford</td>\n",
       "      <td>True</td>\n",
       "      <td>1970</td>\n",
       "    </tr>\n",
       "  </tbody>\n",
       "</table>\n",
       "</div>"
      ],
      "text/plain": [
       "      Brand  Electric  Year\n",
       "1  Maserati      True  1970\n",
       "2       BMW     False  1980\n",
       "3      Ford      True  1970"
      ]
     },
     "execution_count": 64,
     "metadata": {},
     "output_type": "execute_result"
    }
   ],
   "source": [
    "df.iloc[1:4, 0:3]"
   ]
  },
  {
   "cell_type": "code",
   "execution_count": 65,
   "id": "ec98261f",
   "metadata": {
    "ExecuteTime": {
     "start_time": "2024-02-27T12:24:11.991524Z"
    }
   },
   "outputs": [
    {
     "data": {
      "text/plain": [
       "Brand    Maserati\n",
       "Price       234.6\n",
       "Name: 1, dtype: object"
      ]
     },
     "execution_count": 65,
     "metadata": {},
     "output_type": "execute_result"
    }
   ],
   "source": [
    "df.iloc[1, [0,3]]"
   ]
  },
  {
   "cell_type": "code",
   "execution_count": 66,
   "id": "60947e80",
   "metadata": {
    "ExecuteTime": {
     "start_time": "2024-02-27T12:24:11.992382Z"
    }
   },
   "outputs": [
    {
     "data": {
      "text/html": [
       "<div>\n",
       "<style scoped>\n",
       "    .dataframe tbody tr th:only-of-type {\n",
       "        vertical-align: middle;\n",
       "    }\n",
       "\n",
       "    .dataframe tbody tr th {\n",
       "        vertical-align: top;\n",
       "    }\n",
       "\n",
       "    .dataframe thead th {\n",
       "        text-align: right;\n",
       "    }\n",
       "</style>\n",
       "<table border=\"1\" class=\"dataframe\">\n",
       "  <thead>\n",
       "    <tr style=\"text-align: right;\">\n",
       "      <th></th>\n",
       "      <th>Brand</th>\n",
       "      <th>Electric</th>\n",
       "      <th>Year</th>\n",
       "      <th>Fuel</th>\n",
       "    </tr>\n",
       "  </thead>\n",
       "  <tbody>\n",
       "    <tr>\n",
       "      <th>0</th>\n",
       "      <td>Ford</td>\n",
       "      <td>False</td>\n",
       "      <td>1964</td>\n",
       "      <td>electric</td>\n",
       "    </tr>\n",
       "    <tr>\n",
       "      <th>1</th>\n",
       "      <td>Maserati</td>\n",
       "      <td>True</td>\n",
       "      <td>1970</td>\n",
       "      <td>hybrid</td>\n",
       "    </tr>\n",
       "    <tr>\n",
       "      <th>2</th>\n",
       "      <td>BMW</td>\n",
       "      <td>False</td>\n",
       "      <td>1980</td>\n",
       "      <td>petrol</td>\n",
       "    </tr>\n",
       "    <tr>\n",
       "      <th>3</th>\n",
       "      <td>Ford</td>\n",
       "      <td>True</td>\n",
       "      <td>1970</td>\n",
       "      <td>hybrid</td>\n",
       "    </tr>\n",
       "    <tr>\n",
       "      <th>4</th>\n",
       "      <td>Lamborghini</td>\n",
       "      <td>True</td>\n",
       "      <td>1969</td>\n",
       "      <td>petrol</td>\n",
       "    </tr>\n",
       "    <tr>\n",
       "      <th>5</th>\n",
       "      <td>Ferrari</td>\n",
       "      <td>False</td>\n",
       "      <td>1980</td>\n",
       "      <td>electric</td>\n",
       "    </tr>\n",
       "  </tbody>\n",
       "</table>\n",
       "</div>"
      ],
      "text/plain": [
       "         Brand  Electric  Year      Fuel\n",
       "0         Ford     False  1964  electric\n",
       "1     Maserati      True  1970    hybrid\n",
       "2          BMW     False  1980    petrol\n",
       "3         Ford      True  1970    hybrid\n",
       "4  Lamborghini      True  1969    petrol\n",
       "5      Ferrari     False  1980  electric"
      ]
     },
     "execution_count": 66,
     "metadata": {},
     "output_type": "execute_result"
    }
   ],
   "source": [
    "df.iloc[:, [True, True, True, False, False, True]]"
   ]
  },
  {
   "cell_type": "code",
   "execution_count": 67,
   "id": "4aa662c7",
   "metadata": {
    "ExecuteTime": {
     "start_time": "2024-02-27T12:24:11.993203Z"
    }
   },
   "outputs": [
    {
     "data": {
      "text/html": [
       "<div>\n",
       "<style scoped>\n",
       "    .dataframe tbody tr th:only-of-type {\n",
       "        vertical-align: middle;\n",
       "    }\n",
       "\n",
       "    .dataframe tbody tr th {\n",
       "        vertical-align: top;\n",
       "    }\n",
       "\n",
       "    .dataframe thead th {\n",
       "        text-align: right;\n",
       "    }\n",
       "</style>\n",
       "<table border=\"1\" class=\"dataframe\">\n",
       "  <thead>\n",
       "    <tr style=\"text-align: right;\">\n",
       "      <th></th>\n",
       "      <th>Brand</th>\n",
       "      <th>Year</th>\n",
       "    </tr>\n",
       "  </thead>\n",
       "  <tbody>\n",
       "    <tr>\n",
       "      <th>0</th>\n",
       "      <td>Ford</td>\n",
       "      <td>1964</td>\n",
       "    </tr>\n",
       "    <tr>\n",
       "      <th>1</th>\n",
       "      <td>Maserati</td>\n",
       "      <td>1970</td>\n",
       "    </tr>\n",
       "    <tr>\n",
       "      <th>2</th>\n",
       "      <td>BMW</td>\n",
       "      <td>1980</td>\n",
       "    </tr>\n",
       "    <tr>\n",
       "      <th>3</th>\n",
       "      <td>Ford</td>\n",
       "      <td>1970</td>\n",
       "    </tr>\n",
       "    <tr>\n",
       "      <th>4</th>\n",
       "      <td>Lamborghini</td>\n",
       "      <td>1969</td>\n",
       "    </tr>\n",
       "    <tr>\n",
       "      <th>5</th>\n",
       "      <td>Ferrari</td>\n",
       "      <td>1980</td>\n",
       "    </tr>\n",
       "  </tbody>\n",
       "</table>\n",
       "</div>"
      ],
      "text/plain": [
       "         Brand  Year\n",
       "0         Ford  1964\n",
       "1     Maserati  1970\n",
       "2          BMW  1980\n",
       "3         Ford  1970\n",
       "4  Lamborghini  1969\n",
       "5      Ferrari  1980"
      ]
     },
     "execution_count": 67,
     "metadata": {},
     "output_type": "execute_result"
    }
   ],
   "source": [
    "df.iloc[:, lambda df: [0, 2]]"
   ]
  },
  {
   "cell_type": "code",
   "execution_count": 68,
   "id": "63eee776",
   "metadata": {
    "ExecuteTime": {
     "start_time": "2024-02-27T12:24:11.994036Z"
    }
   },
   "outputs": [
    {
     "data": {
      "text/plain": [
       "Ali       67\n",
       "Veli      88\n",
       "Ayse      94\n",
       "Can       34\n",
       "Zeynep    45\n",
       "Zehra     74\n",
       "dtype: int64"
      ]
     },
     "execution_count": 68,
     "metadata": {},
     "output_type": "execute_result"
    }
   ],
   "source": [
    "series"
   ]
  },
  {
   "cell_type": "code",
   "execution_count": 69,
   "id": "cd0628b3",
   "metadata": {
    "ExecuteTime": {
     "start_time": "2024-02-27T12:24:11.994957Z"
    }
   },
   "outputs": [
    {
     "data": {
      "text/plain": [
       "67"
      ]
     },
     "execution_count": 69,
     "metadata": {},
     "output_type": "execute_result"
    }
   ],
   "source": [
    "series.loc['Ali']"
   ]
  },
  {
   "cell_type": "code",
   "execution_count": 70,
   "id": "2d42984d",
   "metadata": {
    "ExecuteTime": {
     "start_time": "2024-02-27T12:24:11.995815Z"
    }
   },
   "outputs": [
    {
     "data": {
      "text/plain": [
       "Ali     67\n",
       "Veli    88\n",
       "Ayse    94\n",
       "dtype: int64"
      ]
     },
     "execution_count": 70,
     "metadata": {},
     "output_type": "execute_result"
    }
   ],
   "source": [
    "series.loc[: 'Ayse']"
   ]
  },
  {
   "cell_type": "code",
   "execution_count": 71,
   "id": "8b092c15",
   "metadata": {
    "ExecuteTime": {
     "start_time": "2024-02-27T12:24:11.996739Z"
    }
   },
   "outputs": [
    {
     "data": {
      "text/plain": [
       "Ali       67\n",
       "Veli      88\n",
       "Ayse      94\n",
       "Can       34\n",
       "Zeynep    45\n",
       "Zehra     74\n",
       "dtype: int64"
      ]
     },
     "execution_count": 71,
     "metadata": {},
     "output_type": "execute_result"
    }
   ],
   "source": [
    "series.loc['Ali' :]"
   ]
  },
  {
   "cell_type": "code",
   "execution_count": 72,
   "id": "ef6173bd",
   "metadata": {
    "ExecuteTime": {
     "start_time": "2024-02-27T12:24:11.997715Z"
    }
   },
   "outputs": [
    {
     "data": {
      "text/plain": [
       "Ali    67\n",
       "Can    34\n",
       "dtype: int64"
      ]
     },
     "execution_count": 72,
     "metadata": {},
     "output_type": "execute_result"
    }
   ],
   "source": [
    "series.loc[['Ali', 'Can']]"
   ]
  },
  {
   "cell_type": "code",
   "execution_count": 73,
   "id": "032f2c3c",
   "metadata": {
    "ExecuteTime": {
     "start_time": "2024-02-27T12:24:11.998711Z"
    }
   },
   "outputs": [
    {
     "data": {
      "text/plain": [
       "Brand       Maserati\n",
       "Electric        True\n",
       "Year            1970\n",
       "Price          234.6\n",
       "Colors         white\n",
       "Fuel          hybrid\n",
       "Name: 1, dtype: object"
      ]
     },
     "execution_count": 73,
     "metadata": {},
     "output_type": "execute_result"
    }
   ],
   "source": [
    "df.loc[1]"
   ]
  },
  {
   "cell_type": "code",
   "execution_count": 74,
   "id": "93217df5",
   "metadata": {
    "ExecuteTime": {
     "start_time": "2024-02-27T12:24:11.999688Z"
    }
   },
   "outputs": [],
   "source": [
    "df=pd.DataFrame(data, columns=['Brand', 'Year', 'Colors', 'Price'],\n",
    "               index=['one', 'two', 'three', 'four', 'five', 'six'])"
   ]
  },
  {
   "cell_type": "code",
   "execution_count": 75,
   "id": "482a5b2e",
   "metadata": {
    "ExecuteTime": {
     "start_time": "2024-02-27T12:24:12.000646Z"
    }
   },
   "outputs": [
    {
     "data": {
      "text/plain": [
       "'red'"
      ]
     },
     "execution_count": 75,
     "metadata": {},
     "output_type": "execute_result"
    }
   ],
   "source": [
    "df.loc['one', 'Colors']"
   ]
  },
  {
   "cell_type": "code",
   "execution_count": 76,
   "id": "0faa3ff3",
   "metadata": {
    "ExecuteTime": {
     "start_time": "2024-02-27T12:24:12.001983Z"
    }
   },
   "outputs": [
    {
     "data": {
      "text/html": [
       "<div>\n",
       "<style scoped>\n",
       "    .dataframe tbody tr th:only-of-type {\n",
       "        vertical-align: middle;\n",
       "    }\n",
       "\n",
       "    .dataframe tbody tr th {\n",
       "        vertical-align: top;\n",
       "    }\n",
       "\n",
       "    .dataframe thead th {\n",
       "        text-align: right;\n",
       "    }\n",
       "</style>\n",
       "<table border=\"1\" class=\"dataframe\">\n",
       "  <thead>\n",
       "    <tr style=\"text-align: right;\">\n",
       "      <th></th>\n",
       "      <th>Brand</th>\n",
       "      <th>Year</th>\n",
       "      <th>Colors</th>\n",
       "      <th>Price</th>\n",
       "    </tr>\n",
       "  </thead>\n",
       "  <tbody>\n",
       "    <tr>\n",
       "      <th>one</th>\n",
       "      <td>Ford</td>\n",
       "      <td>1964</td>\n",
       "      <td>red</td>\n",
       "      <td>370.50</td>\n",
       "    </tr>\n",
       "    <tr>\n",
       "      <th>three</th>\n",
       "      <td>BMW</td>\n",
       "      <td>1980</td>\n",
       "      <td>black</td>\n",
       "      <td>210.03</td>\n",
       "    </tr>\n",
       "  </tbody>\n",
       "</table>\n",
       "</div>"
      ],
      "text/plain": [
       "      Brand  Year Colors   Price\n",
       "one    Ford  1964    red  370.50\n",
       "three   BMW  1980  black  210.03"
      ]
     },
     "execution_count": 76,
     "metadata": {},
     "output_type": "execute_result"
    }
   ],
   "source": [
    "df.loc[['one', 'three']]"
   ]
  },
  {
   "cell_type": "code",
   "execution_count": 77,
   "id": "f3f42bfc",
   "metadata": {
    "ExecuteTime": {
     "start_time": "2024-02-27T12:24:12.004097Z"
    }
   },
   "outputs": [
    {
     "data": {
      "text/plain": [
       "True"
      ]
     },
     "execution_count": 77,
     "metadata": {},
     "output_type": "execute_result"
    }
   ],
   "source": [
    "'Ali' in series"
   ]
  },
  {
   "cell_type": "code",
   "execution_count": 78,
   "id": "ac75a625",
   "metadata": {
    "ExecuteTime": {
     "start_time": "2024-02-27T12:24:12.005375Z"
    }
   },
   "outputs": [
    {
     "data": {
      "text/plain": [
       "True"
      ]
     },
     "execution_count": 78,
     "metadata": {},
     "output_type": "execute_result"
    }
   ],
   "source": [
    "'Year' in df"
   ]
  },
  {
   "cell_type": "code",
   "execution_count": 79,
   "id": "19574cfe",
   "metadata": {
    "ExecuteTime": {
     "start_time": "2024-02-27T12:24:12.006360Z"
    }
   },
   "outputs": [
    {
     "data": {
      "text/plain": [
       "False"
      ]
     },
     "execution_count": 79,
     "metadata": {},
     "output_type": "execute_result"
    }
   ],
   "source": [
    "'one' in df"
   ]
  },
  {
   "cell_type": "code",
   "execution_count": 80,
   "id": "2f1418e0",
   "metadata": {
    "ExecuteTime": {
     "start_time": "2024-02-27T12:24:12.007255Z"
    }
   },
   "outputs": [
    {
     "data": {
      "text/html": [
       "<div>\n",
       "<style scoped>\n",
       "    .dataframe tbody tr th:only-of-type {\n",
       "        vertical-align: middle;\n",
       "    }\n",
       "\n",
       "    .dataframe tbody tr th {\n",
       "        vertical-align: top;\n",
       "    }\n",
       "\n",
       "    .dataframe thead th {\n",
       "        text-align: right;\n",
       "    }\n",
       "</style>\n",
       "<table border=\"1\" class=\"dataframe\">\n",
       "  <thead>\n",
       "    <tr style=\"text-align: right;\">\n",
       "      <th></th>\n",
       "      <th>Brand</th>\n",
       "      <th>Year</th>\n",
       "      <th>Colors</th>\n",
       "      <th>Price</th>\n",
       "    </tr>\n",
       "  </thead>\n",
       "  <tbody>\n",
       "    <tr>\n",
       "      <th>one</th>\n",
       "      <td>Ford</td>\n",
       "      <td>1964</td>\n",
       "      <td>red</td>\n",
       "      <td>370.50</td>\n",
       "    </tr>\n",
       "    <tr>\n",
       "      <th>two</th>\n",
       "      <td>Maserati</td>\n",
       "      <td>1970</td>\n",
       "      <td>white</td>\n",
       "      <td>234.60</td>\n",
       "    </tr>\n",
       "    <tr>\n",
       "      <th>three</th>\n",
       "      <td>BMW</td>\n",
       "      <td>1980</td>\n",
       "      <td>black</td>\n",
       "      <td>210.03</td>\n",
       "    </tr>\n",
       "    <tr>\n",
       "      <th>four</th>\n",
       "      <td>Ford</td>\n",
       "      <td>1970</td>\n",
       "      <td>white</td>\n",
       "      <td>347.90</td>\n",
       "    </tr>\n",
       "    <tr>\n",
       "      <th>five</th>\n",
       "      <td>Lamborghini</td>\n",
       "      <td>1969</td>\n",
       "      <td>blue</td>\n",
       "      <td>543.70</td>\n",
       "    </tr>\n",
       "    <tr>\n",
       "      <th>six</th>\n",
       "      <td>Ferrari</td>\n",
       "      <td>1980</td>\n",
       "      <td>red</td>\n",
       "      <td>784.10</td>\n",
       "    </tr>\n",
       "  </tbody>\n",
       "</table>\n",
       "</div>"
      ],
      "text/plain": [
       "             Brand  Year Colors   Price\n",
       "one           Ford  1964    red  370.50\n",
       "two       Maserati  1970  white  234.60\n",
       "three          BMW  1980  black  210.03\n",
       "four          Ford  1970  white  347.90\n",
       "five   Lamborghini  1969   blue  543.70\n",
       "six        Ferrari  1980    red  784.10"
      ]
     },
     "execution_count": 80,
     "metadata": {},
     "output_type": "execute_result"
    }
   ],
   "source": [
    "df"
   ]
  },
  {
   "cell_type": "code",
   "execution_count": 81,
   "id": "91f6236f",
   "metadata": {
    "ExecuteTime": {
     "start_time": "2024-02-27T12:24:12.008086Z"
    }
   },
   "outputs": [
    {
     "data": {
      "text/html": [
       "<div>\n",
       "<style scoped>\n",
       "    .dataframe tbody tr th:only-of-type {\n",
       "        vertical-align: middle;\n",
       "    }\n",
       "\n",
       "    .dataframe tbody tr th {\n",
       "        vertical-align: top;\n",
       "    }\n",
       "\n",
       "    .dataframe thead th {\n",
       "        text-align: right;\n",
       "    }\n",
       "</style>\n",
       "<table border=\"1\" class=\"dataframe\">\n",
       "  <thead>\n",
       "    <tr style=\"text-align: right;\">\n",
       "      <th></th>\n",
       "      <th>Brand</th>\n",
       "      <th>Year</th>\n",
       "      <th>Colors</th>\n",
       "      <th>Price</th>\n",
       "    </tr>\n",
       "  </thead>\n",
       "  <tbody>\n",
       "    <tr>\n",
       "      <th>one</th>\n",
       "      <td>Ford</td>\n",
       "      <td>1964</td>\n",
       "      <td>red</td>\n",
       "      <td>370.5</td>\n",
       "    </tr>\n",
       "    <tr>\n",
       "      <th>two</th>\n",
       "      <td>Maserati</td>\n",
       "      <td>1970</td>\n",
       "      <td>white</td>\n",
       "      <td>234.6</td>\n",
       "    </tr>\n",
       "    <tr>\n",
       "      <th>five</th>\n",
       "      <td>Lamborghini</td>\n",
       "      <td>1969</td>\n",
       "      <td>blue</td>\n",
       "      <td>543.7</td>\n",
       "    </tr>\n",
       "    <tr>\n",
       "      <th>six</th>\n",
       "      <td>Ferrari</td>\n",
       "      <td>1980</td>\n",
       "      <td>red</td>\n",
       "      <td>784.1</td>\n",
       "    </tr>\n",
       "  </tbody>\n",
       "</table>\n",
       "</div>"
      ],
      "text/plain": [
       "            Brand  Year Colors  Price\n",
       "one          Ford  1964    red  370.5\n",
       "two      Maserati  1970  white  234.6\n",
       "five  Lamborghini  1969   blue  543.7\n",
       "six       Ferrari  1980    red  784.1"
      ]
     },
     "execution_count": 81,
     "metadata": {},
     "output_type": "execute_result"
    }
   ],
   "source": [
    "df.loc[pd.Series([True, True, False, False, True, True],\n",
    "                index=['one', 'two', 'three', 'four', 'five', 'six'])]"
   ]
  },
  {
   "cell_type": "code",
   "execution_count": 82,
   "id": "488781e4",
   "metadata": {
    "ExecuteTime": {
     "start_time": "2024-02-27T12:24:12.008895Z"
    }
   },
   "outputs": [
    {
     "data": {
      "text/html": [
       "<div>\n",
       "<style scoped>\n",
       "    .dataframe tbody tr th:only-of-type {\n",
       "        vertical-align: middle;\n",
       "    }\n",
       "\n",
       "    .dataframe tbody tr th {\n",
       "        vertical-align: top;\n",
       "    }\n",
       "\n",
       "    .dataframe thead th {\n",
       "        text-align: right;\n",
       "    }\n",
       "</style>\n",
       "<table border=\"1\" class=\"dataframe\">\n",
       "  <thead>\n",
       "    <tr style=\"text-align: right;\">\n",
       "      <th></th>\n",
       "      <th>Brand</th>\n",
       "      <th>Year</th>\n",
       "      <th>Colors</th>\n",
       "      <th>Price</th>\n",
       "    </tr>\n",
       "  </thead>\n",
       "  <tbody>\n",
       "    <tr>\n",
       "      <th>one</th>\n",
       "      <td>Ford</td>\n",
       "      <td>1964</td>\n",
       "      <td>red</td>\n",
       "      <td>370.5</td>\n",
       "    </tr>\n",
       "    <tr>\n",
       "      <th>four</th>\n",
       "      <td>Ford</td>\n",
       "      <td>1970</td>\n",
       "      <td>white</td>\n",
       "      <td>347.9</td>\n",
       "    </tr>\n",
       "    <tr>\n",
       "      <th>five</th>\n",
       "      <td>Lamborghini</td>\n",
       "      <td>1969</td>\n",
       "      <td>blue</td>\n",
       "      <td>543.7</td>\n",
       "    </tr>\n",
       "    <tr>\n",
       "      <th>six</th>\n",
       "      <td>Ferrari</td>\n",
       "      <td>1980</td>\n",
       "      <td>red</td>\n",
       "      <td>784.1</td>\n",
       "    </tr>\n",
       "  </tbody>\n",
       "</table>\n",
       "</div>"
      ],
      "text/plain": [
       "            Brand  Year Colors  Price\n",
       "one          Ford  1964    red  370.5\n",
       "four         Ford  1970  white  347.9\n",
       "five  Lamborghini  1969   blue  543.7\n",
       "six       Ferrari  1980    red  784.1"
      ]
     },
     "execution_count": 82,
     "metadata": {},
     "output_type": "execute_result"
    }
   ],
   "source": [
    "df.loc[df['Price'] > 250]"
   ]
  },
  {
   "cell_type": "code",
   "execution_count": 83,
   "id": "896d6f38",
   "metadata": {
    "ExecuteTime": {
     "start_time": "2024-02-27T12:24:12.009839Z"
    }
   },
   "outputs": [
    {
     "data": {
      "text/html": [
       "<div>\n",
       "<style scoped>\n",
       "    .dataframe tbody tr th:only-of-type {\n",
       "        vertical-align: middle;\n",
       "    }\n",
       "\n",
       "    .dataframe tbody tr th {\n",
       "        vertical-align: top;\n",
       "    }\n",
       "\n",
       "    .dataframe thead th {\n",
       "        text-align: right;\n",
       "    }\n",
       "</style>\n",
       "<table border=\"1\" class=\"dataframe\">\n",
       "  <thead>\n",
       "    <tr style=\"text-align: right;\">\n",
       "      <th></th>\n",
       "      <th>Colors</th>\n",
       "    </tr>\n",
       "  </thead>\n",
       "  <tbody>\n",
       "    <tr>\n",
       "      <th>one</th>\n",
       "      <td>red</td>\n",
       "    </tr>\n",
       "    <tr>\n",
       "      <th>four</th>\n",
       "      <td>white</td>\n",
       "    </tr>\n",
       "    <tr>\n",
       "      <th>five</th>\n",
       "      <td>blue</td>\n",
       "    </tr>\n",
       "    <tr>\n",
       "      <th>six</th>\n",
       "      <td>red</td>\n",
       "    </tr>\n",
       "  </tbody>\n",
       "</table>\n",
       "</div>"
      ],
      "text/plain": [
       "     Colors\n",
       "one     red\n",
       "four  white\n",
       "five   blue\n",
       "six     red"
      ]
     },
     "execution_count": 83,
     "metadata": {},
     "output_type": "execute_result"
    }
   ],
   "source": [
    "df.loc[df['Price'] > 250, ['Colors']]"
   ]
  },
  {
   "cell_type": "code",
   "execution_count": 84,
   "id": "bbc2be32",
   "metadata": {
    "ExecuteTime": {
     "start_time": "2024-02-27T12:24:12.010817Z"
    }
   },
   "outputs": [
    {
     "data": {
      "text/html": [
       "<div>\n",
       "<style scoped>\n",
       "    .dataframe tbody tr th:only-of-type {\n",
       "        vertical-align: middle;\n",
       "    }\n",
       "\n",
       "    .dataframe tbody tr th {\n",
       "        vertical-align: top;\n",
       "    }\n",
       "\n",
       "    .dataframe thead th {\n",
       "        text-align: right;\n",
       "    }\n",
       "</style>\n",
       "<table border=\"1\" class=\"dataframe\">\n",
       "  <thead>\n",
       "    <tr style=\"text-align: right;\">\n",
       "      <th></th>\n",
       "      <th>Brand</th>\n",
       "      <th>Year</th>\n",
       "      <th>Colors</th>\n",
       "      <th>Price</th>\n",
       "    </tr>\n",
       "  </thead>\n",
       "  <tbody>\n",
       "    <tr>\n",
       "      <th>one</th>\n",
       "      <td>Ford</td>\n",
       "      <td>1960</td>\n",
       "      <td>red</td>\n",
       "      <td>370.50</td>\n",
       "    </tr>\n",
       "    <tr>\n",
       "      <th>two</th>\n",
       "      <td>Maserati</td>\n",
       "      <td>1970</td>\n",
       "      <td>white</td>\n",
       "      <td>234.60</td>\n",
       "    </tr>\n",
       "    <tr>\n",
       "      <th>three</th>\n",
       "      <td>BMW</td>\n",
       "      <td>1980</td>\n",
       "      <td>black</td>\n",
       "      <td>210.03</td>\n",
       "    </tr>\n",
       "    <tr>\n",
       "      <th>four</th>\n",
       "      <td>Ford</td>\n",
       "      <td>1960</td>\n",
       "      <td>white</td>\n",
       "      <td>347.90</td>\n",
       "    </tr>\n",
       "    <tr>\n",
       "      <th>five</th>\n",
       "      <td>Lamborghini</td>\n",
       "      <td>1969</td>\n",
       "      <td>blue</td>\n",
       "      <td>543.70</td>\n",
       "    </tr>\n",
       "    <tr>\n",
       "      <th>six</th>\n",
       "      <td>Ferrari</td>\n",
       "      <td>1980</td>\n",
       "      <td>red</td>\n",
       "      <td>784.10</td>\n",
       "    </tr>\n",
       "  </tbody>\n",
       "</table>\n",
       "</div>"
      ],
      "text/plain": [
       "             Brand  Year Colors   Price\n",
       "one           Ford  1960    red  370.50\n",
       "two       Maserati  1970  white  234.60\n",
       "three          BMW  1980  black  210.03\n",
       "four          Ford  1960  white  347.90\n",
       "five   Lamborghini  1969   blue  543.70\n",
       "six        Ferrari  1980    red  784.10"
      ]
     },
     "execution_count": 84,
     "metadata": {},
     "output_type": "execute_result"
    }
   ],
   "source": [
    "df.loc[['one', 'four'], ['Year']] = 1960\n",
    "df"
   ]
  },
  {
   "cell_type": "markdown",
   "id": "8ebe5948",
   "metadata": {},
   "source": [
    "## Querying a DataFrame"
   ]
  },
  {
   "cell_type": "code",
   "execution_count": 85,
   "id": "6f92a508",
   "metadata": {
    "ExecuteTime": {
     "start_time": "2024-02-27T12:24:12.011918Z"
    }
   },
   "outputs": [
    {
     "data": {
      "text/html": [
       "<div>\n",
       "<style scoped>\n",
       "    .dataframe tbody tr th:only-of-type {\n",
       "        vertical-align: middle;\n",
       "    }\n",
       "\n",
       "    .dataframe tbody tr th {\n",
       "        vertical-align: top;\n",
       "    }\n",
       "\n",
       "    .dataframe thead th {\n",
       "        text-align: right;\n",
       "    }\n",
       "</style>\n",
       "<table border=\"1\" class=\"dataframe\">\n",
       "  <thead>\n",
       "    <tr style=\"text-align: right;\">\n",
       "      <th></th>\n",
       "      <th>Brand</th>\n",
       "      <th>Year</th>\n",
       "      <th>Colors</th>\n",
       "      <th>Price</th>\n",
       "    </tr>\n",
       "  </thead>\n",
       "  <tbody>\n",
       "    <tr>\n",
       "      <th>one</th>\n",
       "      <td>Ford</td>\n",
       "      <td>1960</td>\n",
       "      <td>red</td>\n",
       "      <td>370.50</td>\n",
       "    </tr>\n",
       "    <tr>\n",
       "      <th>two</th>\n",
       "      <td>Maserati</td>\n",
       "      <td>1970</td>\n",
       "      <td>white</td>\n",
       "      <td>234.60</td>\n",
       "    </tr>\n",
       "    <tr>\n",
       "      <th>three</th>\n",
       "      <td>BMW</td>\n",
       "      <td>1980</td>\n",
       "      <td>black</td>\n",
       "      <td>210.03</td>\n",
       "    </tr>\n",
       "    <tr>\n",
       "      <th>four</th>\n",
       "      <td>Ford</td>\n",
       "      <td>1960</td>\n",
       "      <td>white</td>\n",
       "      <td>347.90</td>\n",
       "    </tr>\n",
       "    <tr>\n",
       "      <th>five</th>\n",
       "      <td>Lamborghini</td>\n",
       "      <td>1969</td>\n",
       "      <td>blue</td>\n",
       "      <td>543.70</td>\n",
       "    </tr>\n",
       "    <tr>\n",
       "      <th>six</th>\n",
       "      <td>Ferrari</td>\n",
       "      <td>1980</td>\n",
       "      <td>red</td>\n",
       "      <td>784.10</td>\n",
       "    </tr>\n",
       "  </tbody>\n",
       "</table>\n",
       "</div>"
      ],
      "text/plain": [
       "             Brand  Year Colors   Price\n",
       "one           Ford  1960    red  370.50\n",
       "two       Maserati  1970  white  234.60\n",
       "three          BMW  1980  black  210.03\n",
       "four          Ford  1960  white  347.90\n",
       "five   Lamborghini  1969   blue  543.70\n",
       "six        Ferrari  1980    red  784.10"
      ]
     },
     "execution_count": 85,
     "metadata": {},
     "output_type": "execute_result"
    }
   ],
   "source": [
    "df"
   ]
  },
  {
   "cell_type": "code",
   "execution_count": 86,
   "id": "e04258d0",
   "metadata": {
    "ExecuteTime": {
     "start_time": "2024-02-27T12:24:12.012852Z"
    }
   },
   "outputs": [
    {
     "data": {
      "text/plain": [
       "one       True\n",
       "two      False\n",
       "three    False\n",
       "four      True\n",
       "five      True\n",
       "six       True\n",
       "Name: Price, dtype: bool"
      ]
     },
     "execution_count": 86,
     "metadata": {},
     "output_type": "execute_result"
    }
   ],
   "source": [
    "df['Price'] > 250"
   ]
  },
  {
   "cell_type": "code",
   "execution_count": 87,
   "id": "b1853a7f",
   "metadata": {
    "ExecuteTime": {
     "start_time": "2024-02-27T12:24:12.013720Z"
    }
   },
   "outputs": [
    {
     "data": {
      "text/html": [
       "<div>\n",
       "<style scoped>\n",
       "    .dataframe tbody tr th:only-of-type {\n",
       "        vertical-align: middle;\n",
       "    }\n",
       "\n",
       "    .dataframe tbody tr th {\n",
       "        vertical-align: top;\n",
       "    }\n",
       "\n",
       "    .dataframe thead th {\n",
       "        text-align: right;\n",
       "    }\n",
       "</style>\n",
       "<table border=\"1\" class=\"dataframe\">\n",
       "  <thead>\n",
       "    <tr style=\"text-align: right;\">\n",
       "      <th></th>\n",
       "      <th>Brand</th>\n",
       "      <th>Year</th>\n",
       "      <th>Colors</th>\n",
       "      <th>Price</th>\n",
       "    </tr>\n",
       "  </thead>\n",
       "  <tbody>\n",
       "    <tr>\n",
       "      <th>one</th>\n",
       "      <td>Ford</td>\n",
       "      <td>1960</td>\n",
       "      <td>red</td>\n",
       "      <td>370.5</td>\n",
       "    </tr>\n",
       "    <tr>\n",
       "      <th>four</th>\n",
       "      <td>Ford</td>\n",
       "      <td>1960</td>\n",
       "      <td>white</td>\n",
       "      <td>347.9</td>\n",
       "    </tr>\n",
       "    <tr>\n",
       "      <th>five</th>\n",
       "      <td>Lamborghini</td>\n",
       "      <td>1969</td>\n",
       "      <td>blue</td>\n",
       "      <td>543.7</td>\n",
       "    </tr>\n",
       "    <tr>\n",
       "      <th>six</th>\n",
       "      <td>Ferrari</td>\n",
       "      <td>1980</td>\n",
       "      <td>red</td>\n",
       "      <td>784.1</td>\n",
       "    </tr>\n",
       "  </tbody>\n",
       "</table>\n",
       "</div>"
      ],
      "text/plain": [
       "            Brand  Year Colors  Price\n",
       "one          Ford  1960    red  370.5\n",
       "four         Ford  1960  white  347.9\n",
       "five  Lamborghini  1969   blue  543.7\n",
       "six       Ferrari  1980    red  784.1"
      ]
     },
     "execution_count": 87,
     "metadata": {},
     "output_type": "execute_result"
    }
   ],
   "source": [
    "df[df['Price'] > 250]"
   ]
  },
  {
   "cell_type": "code",
   "execution_count": 88,
   "id": "669de0a6",
   "metadata": {
    "ExecuteTime": {
     "start_time": "2024-02-27T12:24:12.014571Z"
    }
   },
   "outputs": [
    {
     "data": {
      "text/html": [
       "<div>\n",
       "<style scoped>\n",
       "    .dataframe tbody tr th:only-of-type {\n",
       "        vertical-align: middle;\n",
       "    }\n",
       "\n",
       "    .dataframe tbody tr th {\n",
       "        vertical-align: top;\n",
       "    }\n",
       "\n",
       "    .dataframe thead th {\n",
       "        text-align: right;\n",
       "    }\n",
       "</style>\n",
       "<table border=\"1\" class=\"dataframe\">\n",
       "  <thead>\n",
       "    <tr style=\"text-align: right;\">\n",
       "      <th></th>\n",
       "      <th>Brand</th>\n",
       "      <th>Year</th>\n",
       "      <th>Colors</th>\n",
       "      <th>Price</th>\n",
       "    </tr>\n",
       "  </thead>\n",
       "  <tbody>\n",
       "    <tr>\n",
       "      <th>one</th>\n",
       "      <td>Ford</td>\n",
       "      <td>1960.0</td>\n",
       "      <td>red</td>\n",
       "      <td>370.5</td>\n",
       "    </tr>\n",
       "    <tr>\n",
       "      <th>two</th>\n",
       "      <td>NaN</td>\n",
       "      <td>NaN</td>\n",
       "      <td>NaN</td>\n",
       "      <td>NaN</td>\n",
       "    </tr>\n",
       "    <tr>\n",
       "      <th>three</th>\n",
       "      <td>NaN</td>\n",
       "      <td>NaN</td>\n",
       "      <td>NaN</td>\n",
       "      <td>NaN</td>\n",
       "    </tr>\n",
       "  </tbody>\n",
       "</table>\n",
       "</div>"
      ],
      "text/plain": [
       "      Brand    Year Colors  Price\n",
       "one    Ford  1960.0    red  370.5\n",
       "two     NaN     NaN    NaN    NaN\n",
       "three   NaN     NaN    NaN    NaN"
      ]
     },
     "execution_count": 88,
     "metadata": {},
     "output_type": "execute_result"
    }
   ],
   "source": [
    "tmpDf = df.where(df['Price'] > 250)\n",
    "tmpDf.head(3)"
   ]
  },
  {
   "cell_type": "code",
   "execution_count": 89,
   "id": "75a40161",
   "metadata": {
    "ExecuteTime": {
     "start_time": "2024-02-27T12:24:12.015442Z"
    }
   },
   "outputs": [
    {
     "data": {
      "text/html": [
       "<div>\n",
       "<style scoped>\n",
       "    .dataframe tbody tr th:only-of-type {\n",
       "        vertical-align: middle;\n",
       "    }\n",
       "\n",
       "    .dataframe tbody tr th {\n",
       "        vertical-align: top;\n",
       "    }\n",
       "\n",
       "    .dataframe thead th {\n",
       "        text-align: right;\n",
       "    }\n",
       "</style>\n",
       "<table border=\"1\" class=\"dataframe\">\n",
       "  <thead>\n",
       "    <tr style=\"text-align: right;\">\n",
       "      <th></th>\n",
       "      <th>Brand</th>\n",
       "      <th>Year</th>\n",
       "      <th>Colors</th>\n",
       "      <th>Price</th>\n",
       "    </tr>\n",
       "  </thead>\n",
       "  <tbody>\n",
       "    <tr>\n",
       "      <th>one</th>\n",
       "      <td>Ford</td>\n",
       "      <td>1960.0</td>\n",
       "      <td>red</td>\n",
       "      <td>370.5</td>\n",
       "    </tr>\n",
       "    <tr>\n",
       "      <th>two</th>\n",
       "      <td>NaN</td>\n",
       "      <td>NaN</td>\n",
       "      <td>NaN</td>\n",
       "      <td>NaN</td>\n",
       "    </tr>\n",
       "    <tr>\n",
       "      <th>three</th>\n",
       "      <td>NaN</td>\n",
       "      <td>NaN</td>\n",
       "      <td>NaN</td>\n",
       "      <td>NaN</td>\n",
       "    </tr>\n",
       "    <tr>\n",
       "      <th>four</th>\n",
       "      <td>Ford</td>\n",
       "      <td>1960.0</td>\n",
       "      <td>white</td>\n",
       "      <td>347.9</td>\n",
       "    </tr>\n",
       "    <tr>\n",
       "      <th>five</th>\n",
       "      <td>Lamborghini</td>\n",
       "      <td>1969.0</td>\n",
       "      <td>blue</td>\n",
       "      <td>543.7</td>\n",
       "    </tr>\n",
       "    <tr>\n",
       "      <th>six</th>\n",
       "      <td>Ferrari</td>\n",
       "      <td>1980.0</td>\n",
       "      <td>red</td>\n",
       "      <td>784.1</td>\n",
       "    </tr>\n",
       "  </tbody>\n",
       "</table>\n",
       "</div>"
      ],
      "text/plain": [
       "             Brand    Year Colors  Price\n",
       "one           Ford  1960.0    red  370.5\n",
       "two            NaN     NaN    NaN    NaN\n",
       "three          NaN     NaN    NaN    NaN\n",
       "four          Ford  1960.0  white  347.9\n",
       "five   Lamborghini  1969.0   blue  543.7\n",
       "six        Ferrari  1980.0    red  784.1"
      ]
     },
     "execution_count": 89,
     "metadata": {},
     "output_type": "execute_result"
    }
   ],
   "source": [
    "tmpDf"
   ]
  },
  {
   "cell_type": "code",
   "execution_count": null,
   "id": "e75d732276abdded",
   "metadata": {
    "ExecuteTime": {
     "start_time": "2024-02-27T12:24:12.016277Z"
    }
   },
   "outputs": [],
   "source": []
  }
 ],
 "metadata": {
  "kernelspec": {
   "display_name": "Python 3 (ipykernel)",
   "language": "python",
   "name": "python3"
  },
  "language_info": {
   "codemirror_mode": {
    "name": "ipython",
    "version": 3
   },
   "file_extension": ".py",
   "mimetype": "text/x-python",
   "name": "python",
   "nbconvert_exporter": "python",
   "pygments_lexer": "ipython3",
   "version": "3.11.5"
  }
 },
 "nbformat": 4,
 "nbformat_minor": 5
}
