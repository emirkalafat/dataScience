{
 "cells": [
  {
   "cell_type": "markdown",
   "id": "b374f94a-3fd0-446e-bef4-6bff4543cd96",
   "metadata": {},
   "source": [
    "#### Name Surname:\n",
    "#### StudentID:"
   ]
  },
  {
   "cell_type": "markdown",
   "id": "5e830acc-6bec-4e66-8eba-2ed99a8bcdde",
   "metadata": {},
   "source": [
    "#### Important Notes: \n",
    "Change this file name to **studentId_LabWork5.ipynb**. After finished your work, upload your file to the related field in LMS"
   ]
  },
  {
   "cell_type": "markdown",
   "id": "4c9eee0f",
   "metadata": {},
   "source": [
    "### LabWork5 - Feature Engineering\n",
    "\n",
    "- Please explain in detail and show all your work!\n",
    "\n",
    "1. Impute the missing values via different ML approcahes. \n",
    "2. Chose numeric features, draw density plots and remove outliers with appropriate methods \n",
    "3. Chose categorical features, identify outliers and remove them [BONUS].\n",
    "4. Apply appropriate encoding methods on categorical features.\n",
    "5. Perform transformation to your numeric features. Why do you need such this transformation?\n",
    "6. Chose numeric features and perform appropriate scaling/normalization methods. Explain in detail why do you choose that.\n",
    "7. Draw heat map and pair plot and decide which feature(s) do you select based on your observation.   \n"
   ]
  },
  {
   "cell_type": "code",
   "execution_count": 1,
   "id": "10c91df0",
   "metadata": {},
   "outputs": [],
   "source": [
    "# 1. Impute the missing values via different ML approcahes. "
   ]
  },
  {
   "cell_type": "code",
   "execution_count": null,
   "id": "7998abae-9c7a-4326-8a8f-bd4d8e85fe7c",
   "metadata": {},
   "outputs": [],
   "source": []
  },
  {
   "cell_type": "code",
   "execution_count": 2,
   "id": "2f93efc4-b726-4bc6-a46f-7562de6d8319",
   "metadata": {},
   "outputs": [],
   "source": [
    "# 2. Chose numeric features, draw density plots and remove outliers with appropriate methods "
   ]
  },
  {
   "cell_type": "code",
   "execution_count": null,
   "id": "9be4aa33-2a3d-4cc5-82ac-eddc58851a2e",
   "metadata": {},
   "outputs": [],
   "source": []
  },
  {
   "cell_type": "code",
   "execution_count": 3,
   "id": "b881776c-3e58-457b-92bc-fc0d03228d42",
   "metadata": {},
   "outputs": [],
   "source": [
    "# 3. Chose categorical features, identify outliers and remove them [BONUS]."
   ]
  },
  {
   "cell_type": "code",
   "execution_count": null,
   "id": "f3e6e11a-3bec-4b11-b551-e33d78db1bb5",
   "metadata": {},
   "outputs": [],
   "source": []
  },
  {
   "cell_type": "code",
   "execution_count": 4,
   "id": "b1260a5b-c396-49d5-b899-a7486d401394",
   "metadata": {},
   "outputs": [],
   "source": [
    "# 4. Apply appropriate encoding methods on categorical features."
   ]
  },
  {
   "cell_type": "code",
   "execution_count": null,
   "id": "905f0586-5454-44ec-96a5-eea1e1bac951",
   "metadata": {},
   "outputs": [],
   "source": []
  },
  {
   "cell_type": "code",
   "execution_count": 5,
   "id": "9b8a883d-1aa3-4a59-8805-5deecd73c79c",
   "metadata": {},
   "outputs": [],
   "source": [
    "# 5. Perform transformation to your numeric features. Why do you need such this transformation?"
   ]
  },
  {
   "cell_type": "code",
   "execution_count": null,
   "id": "e2e60d2f-0989-46b3-8564-7dfa5a81c6aa",
   "metadata": {},
   "outputs": [],
   "source": []
  },
  {
   "cell_type": "code",
   "execution_count": 6,
   "id": "d1801d6b-6ec8-4c4b-b491-3c1d3b8cf05b",
   "metadata": {},
   "outputs": [],
   "source": [
    "# 6. Chose numeric features and perform appropriate scaling/normalization methods. \n",
    "# Explain in detail why do you choose that."
   ]
  },
  {
   "cell_type": "code",
   "execution_count": null,
   "id": "1254aef1-f67a-45a4-b8a8-0fe5c92573b1",
   "metadata": {},
   "outputs": [],
   "source": []
  },
  {
   "cell_type": "code",
   "execution_count": 7,
   "id": "db8e75b2-efe6-4725-8f64-fde65b3fccfe",
   "metadata": {},
   "outputs": [],
   "source": [
    "# 7. Draw heat map and pair plot and decide which feature(s) do you select based on your observation.   \n"
   ]
  },
  {
   "cell_type": "code",
   "execution_count": null,
   "id": "a0adb35a-9fc8-42f1-90cf-698df33ac065",
   "metadata": {},
   "outputs": [],
   "source": []
  }
 ],
 "metadata": {
  "kernelspec": {
   "display_name": "Python 3 (ipykernel)",
   "language": "python",
   "name": "python3"
  },
  "language_info": {
   "codemirror_mode": {
    "name": "ipython",
    "version": 3
   },
   "file_extension": ".py",
   "mimetype": "text/x-python",
   "name": "python",
   "nbconvert_exporter": "python",
   "pygments_lexer": "ipython3",
   "version": "3.9.18"
  }
 },
 "nbformat": 4,
 "nbformat_minor": 5
}
